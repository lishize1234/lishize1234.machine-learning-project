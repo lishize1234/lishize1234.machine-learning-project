{
  "nbformat": 4,
  "nbformat_minor": 0,
  "metadata": {
    "colab": {
      "name": "Customer Review Project.ipynb",
      "provenance": [],
      "collapsed_sections": []
    },
    "kernelspec": {
      "name": "python3",
      "display_name": "Python 3"
    }
  },
  "cells": [
    {
      "cell_type": "markdown",
      "metadata": {
        "id": "Xp3LTq59E8UK",
        "colab_type": "text"
      },
      "source": [
        "# Document Clustering and Topic Modeling"
      ]
    },
    {
      "cell_type": "markdown",
      "metadata": {
        "id": "mS-ob0Q8E8UM",
        "colab_type": "text"
      },
      "source": [
        "*In* this project, we use unsupervised learning models to cluster unlabeled documents into different groups, visualize the results and identify their latent topics/structures."
      ]
    },
    {
      "cell_type": "markdown",
      "metadata": {
        "id": "ZE7Qr-ccE8UN",
        "colab_type": "text"
      },
      "source": [
        "## Contents"
      ]
    },
    {
      "cell_type": "markdown",
      "metadata": {
        "id": "2S0waFW9E8UO",
        "colab_type": "text"
      },
      "source": [
        "* [Part 1: Load Data](#Part-1:-Load-Data)\n",
        "* [Part 2: Tokenizing and Stemming](#Part-2:-Tokenizing-and-Stemming)\n",
        "* [Part 3: TF-IDF](#Part-3:-TF-IDF)\n",
        "* [Part 4: K-means clustering](#Part-4:-K-means-clustering)\n",
        "* [Part 5: Topic Modeling - Latent Dirichlet Allocation](#Part-5:-Topic-Modeling---Latent-Dirichlet-Allocation)\n"
      ]
    },
    {
      "cell_type": "markdown",
      "metadata": {
        "id": "5nXGAelMjJFq",
        "colab_type": "text"
      },
      "source": [
        "# Part 0: Setup Google Drive Environment"
      ]
    },
    {
      "cell_type": "code",
      "metadata": {
        "id": "6eT1n7oijJ8v",
        "colab_type": "code",
        "colab": {}
      },
      "source": [
        "!pip install -U -q PyDrive\n",
        "\n",
        "from pydrive.auth import GoogleAuth\n",
        "from pydrive.drive import GoogleDrive\n",
        "from google.colab import auth\n",
        "from oauth2client.client import GoogleCredentials\n",
        "\n",
        "auth.authenticate_user()\n",
        "gauth = GoogleAuth()\n",
        "gauth.credentials = GoogleCredentials.get_application_default()\n",
        "drive = GoogleDrive(gauth)"
      ],
      "execution_count": 0,
      "outputs": []
    },
    {
      "cell_type": "code",
      "metadata": {
        "id": "0N2bb9S6jKGh",
        "colab_type": "code",
        "colab": {}
      },
      "source": [
        "# https://drive.google.com/open?id=192JMR7SIqoa14vrs7Z9BXO3iK89pimJL\n",
        "file = drive.CreateFile({'id':'192JMR7SIqoa14vrs7Z9BXO3iK89pimJL'}) # replace the id with id of file you want to access\n",
        "file.GetContentFile('data.tsv')  "
      ],
      "execution_count": 0,
      "outputs": []
    },
    {
      "cell_type": "markdown",
      "metadata": {
        "id": "Nc9DK62BE8UP",
        "colab_type": "text"
      },
      "source": [
        "# Part 1: Load Data"
      ]
    },
    {
      "cell_type": "code",
      "metadata": {
        "id": "OjdBV8gGE8UQ",
        "colab_type": "code",
        "outputId": "ce3897dd-ec29-441c-8757-29bb90a24e92",
        "colab": {
          "base_uri": "https://localhost:8080/",
          "height": 102
        }
      },
      "source": [
        "import numpy as np\n",
        "import pandas as pd\n",
        "import nltk\n",
        "\n",
        "import gensim\n",
        "# REGULAR EXPRESSION\n",
        "import re\n",
        "\n",
        "from sklearn.feature_extraction.text import TfidfVectorizer\n",
        "import matplotlib.pyplot as plt\n",
        "\n",
        "nltk.download('punkt')\n",
        "nltk.download('stopwords')"
      ],
      "execution_count": 3,
      "outputs": [
        {
          "output_type": "stream",
          "text": [
            "[nltk_data] Downloading package punkt to /root/nltk_data...\n",
            "[nltk_data]   Unzipping tokenizers/punkt.zip.\n",
            "[nltk_data] Downloading package stopwords to /root/nltk_data...\n",
            "[nltk_data]   Unzipping corpora/stopwords.zip.\n"
          ],
          "name": "stdout"
        },
        {
          "output_type": "execute_result",
          "data": {
            "text/plain": [
              "True"
            ]
          },
          "metadata": {
            "tags": []
          },
          "execution_count": 3
        }
      ]
    },
    {
      "cell_type": "code",
      "metadata": {
        "id": "sIj2Z8T70FZD",
        "colab_type": "code",
        "outputId": "be330621-80cc-4671-ca45-a55ffe35cd59",
        "colab": {
          "base_uri": "https://localhost:8080/",
          "height": 190
        }
      },
      "source": [
        "# Load data into dataframe\n",
        "df = pd.read_csv('data.tsv', sep='\\t', header=0, error_bad_lines=False)"
      ],
      "execution_count": 4,
      "outputs": [
        {
          "output_type": "stream",
          "text": [
            "b'Skipping line 8704: expected 15 fields, saw 22\\nSkipping line 16933: expected 15 fields, saw 22\\nSkipping line 23726: expected 15 fields, saw 22\\n'\n",
            "b'Skipping line 85637: expected 15 fields, saw 22\\n'\n",
            "b'Skipping line 132136: expected 15 fields, saw 22\\nSkipping line 158070: expected 15 fields, saw 22\\nSkipping line 166007: expected 15 fields, saw 22\\nSkipping line 171877: expected 15 fields, saw 22\\nSkipping line 177756: expected 15 fields, saw 22\\nSkipping line 181773: expected 15 fields, saw 22\\nSkipping line 191085: expected 15 fields, saw 22\\nSkipping line 196273: expected 15 fields, saw 22\\nSkipping line 196331: expected 15 fields, saw 22\\n'\n",
            "b'Skipping line 197000: expected 15 fields, saw 22\\nSkipping line 197011: expected 15 fields, saw 22\\nSkipping line 197432: expected 15 fields, saw 22\\nSkipping line 208016: expected 15 fields, saw 22\\nSkipping line 214110: expected 15 fields, saw 22\\nSkipping line 244328: expected 15 fields, saw 22\\nSkipping line 248519: expected 15 fields, saw 22\\nSkipping line 254936: expected 15 fields, saw 22\\n'\n",
            "b'Skipping line 272057: expected 15 fields, saw 22\\nSkipping line 293214: expected 15 fields, saw 22\\nSkipping line 310507: expected 15 fields, saw 22\\nSkipping line 312306: expected 15 fields, saw 22\\nSkipping line 316296: expected 15 fields, saw 22\\n'\n",
            "b'Skipping line 336028: expected 15 fields, saw 22\\nSkipping line 344885: expected 15 fields, saw 22\\nSkipping line 352551: expected 15 fields, saw 22\\n'\n",
            "b'Skipping line 408773: expected 15 fields, saw 22\\nSkipping line 434535: expected 15 fields, saw 22\\n'\n",
            "b'Skipping line 581593: expected 15 fields, saw 22\\n'\n",
            "b'Skipping line 652409: expected 15 fields, saw 22\\n'\n"
          ],
          "name": "stderr"
        }
      ]
    },
    {
      "cell_type": "code",
      "metadata": {
        "id": "oVIWPym-8MnJ",
        "colab_type": "code",
        "outputId": "80db454f-2415-431d-d8d5-8edc3937fa43",
        "colab": {
          "base_uri": "https://localhost:8080/",
          "height": 357
        }
      },
      "source": [
        "df.head()"
      ],
      "execution_count": 5,
      "outputs": [
        {
          "output_type": "execute_result",
          "data": {
            "text/html": [
              "<div>\n",
              "<style scoped>\n",
              "    .dataframe tbody tr th:only-of-type {\n",
              "        vertical-align: middle;\n",
              "    }\n",
              "\n",
              "    .dataframe tbody tr th {\n",
              "        vertical-align: top;\n",
              "    }\n",
              "\n",
              "    .dataframe thead th {\n",
              "        text-align: right;\n",
              "    }\n",
              "</style>\n",
              "<table border=\"1\" class=\"dataframe\">\n",
              "  <thead>\n",
              "    <tr style=\"text-align: right;\">\n",
              "      <th></th>\n",
              "      <th>marketplace</th>\n",
              "      <th>customer_id</th>\n",
              "      <th>review_id</th>\n",
              "      <th>product_id</th>\n",
              "      <th>product_parent</th>\n",
              "      <th>product_title</th>\n",
              "      <th>product_category</th>\n",
              "      <th>star_rating</th>\n",
              "      <th>helpful_votes</th>\n",
              "      <th>total_votes</th>\n",
              "      <th>vine</th>\n",
              "      <th>verified_purchase</th>\n",
              "      <th>review_headline</th>\n",
              "      <th>review_body</th>\n",
              "      <th>review_date</th>\n",
              "    </tr>\n",
              "  </thead>\n",
              "  <tbody>\n",
              "    <tr>\n",
              "      <th>0</th>\n",
              "      <td>US</td>\n",
              "      <td>3653882</td>\n",
              "      <td>R3O9SGZBVQBV76</td>\n",
              "      <td>B00FALQ1ZC</td>\n",
              "      <td>937001370</td>\n",
              "      <td>Invicta Women's 15150 \"Angel\" 18k Yellow Gold ...</td>\n",
              "      <td>Watches</td>\n",
              "      <td>5</td>\n",
              "      <td>0</td>\n",
              "      <td>0</td>\n",
              "      <td>N</td>\n",
              "      <td>Y</td>\n",
              "      <td>Five Stars</td>\n",
              "      <td>Absolutely love this watch! Get compliments al...</td>\n",
              "      <td>2015-08-31</td>\n",
              "    </tr>\n",
              "    <tr>\n",
              "      <th>1</th>\n",
              "      <td>US</td>\n",
              "      <td>14661224</td>\n",
              "      <td>RKH8BNC3L5DLF</td>\n",
              "      <td>B00D3RGO20</td>\n",
              "      <td>484010722</td>\n",
              "      <td>Kenneth Cole New York Women's KC4944 Automatic...</td>\n",
              "      <td>Watches</td>\n",
              "      <td>5</td>\n",
              "      <td>0</td>\n",
              "      <td>0</td>\n",
              "      <td>N</td>\n",
              "      <td>Y</td>\n",
              "      <td>I love thiswatch it keeps time wonderfully</td>\n",
              "      <td>I love this watch it keeps time wonderfully.</td>\n",
              "      <td>2015-08-31</td>\n",
              "    </tr>\n",
              "    <tr>\n",
              "      <th>2</th>\n",
              "      <td>US</td>\n",
              "      <td>27324930</td>\n",
              "      <td>R2HLE8WKZSU3NL</td>\n",
              "      <td>B00DKYC7TK</td>\n",
              "      <td>361166390</td>\n",
              "      <td>Ritche 22mm Black Stainless Steel Bracelet Wat...</td>\n",
              "      <td>Watches</td>\n",
              "      <td>2</td>\n",
              "      <td>1</td>\n",
              "      <td>1</td>\n",
              "      <td>N</td>\n",
              "      <td>Y</td>\n",
              "      <td>Two Stars</td>\n",
              "      <td>Scratches</td>\n",
              "      <td>2015-08-31</td>\n",
              "    </tr>\n",
              "    <tr>\n",
              "      <th>3</th>\n",
              "      <td>US</td>\n",
              "      <td>7211452</td>\n",
              "      <td>R31U3UH5AZ42LL</td>\n",
              "      <td>B000EQS1JW</td>\n",
              "      <td>958035625</td>\n",
              "      <td>Citizen Men's BM8180-03E Eco-Drive Stainless S...</td>\n",
              "      <td>Watches</td>\n",
              "      <td>5</td>\n",
              "      <td>0</td>\n",
              "      <td>0</td>\n",
              "      <td>N</td>\n",
              "      <td>Y</td>\n",
              "      <td>Five Stars</td>\n",
              "      <td>It works well on me. However, I found cheaper ...</td>\n",
              "      <td>2015-08-31</td>\n",
              "    </tr>\n",
              "    <tr>\n",
              "      <th>4</th>\n",
              "      <td>US</td>\n",
              "      <td>12733322</td>\n",
              "      <td>R2SV659OUJ945Y</td>\n",
              "      <td>B00A6GFD7S</td>\n",
              "      <td>765328221</td>\n",
              "      <td>Orient ER27009B Men's Symphony Automatic Stain...</td>\n",
              "      <td>Watches</td>\n",
              "      <td>4</td>\n",
              "      <td>0</td>\n",
              "      <td>0</td>\n",
              "      <td>N</td>\n",
              "      <td>Y</td>\n",
              "      <td>Beautiful face, but cheap sounding links</td>\n",
              "      <td>Beautiful watch face.  The band looks nice all...</td>\n",
              "      <td>2015-08-31</td>\n",
              "    </tr>\n",
              "  </tbody>\n",
              "</table>\n",
              "</div>"
            ],
            "text/plain": [
              "  marketplace  ...  review_date\n",
              "0          US  ...   2015-08-31\n",
              "1          US  ...   2015-08-31\n",
              "2          US  ...   2015-08-31\n",
              "3          US  ...   2015-08-31\n",
              "4          US  ...   2015-08-31\n",
              "\n",
              "[5 rows x 15 columns]"
            ]
          },
          "metadata": {
            "tags": []
          },
          "execution_count": 5
        }
      ]
    },
    {
      "cell_type": "code",
      "metadata": {
        "id": "aoRSRJzZA7eT",
        "colab_type": "code",
        "colab": {}
      },
      "source": [
        "# Remove missing value\n",
        "df.review_body.dropna(inplace=True)"
      ],
      "execution_count": 0,
      "outputs": []
    },
    {
      "cell_type": "code",
      "metadata": {
        "id": "VbKDogiW79a6",
        "colab_type": "code",
        "colab": {}
      },
      "source": [
        "# use the first 1000 data as our training data\n",
        "data = df.loc[:1000, 'review_body'].tolist()"
      ],
      "execution_count": 0,
      "outputs": []
    },
    {
      "cell_type": "markdown",
      "metadata": {
        "id": "iQ4KGnVeE8UX",
        "colab_type": "text"
      },
      "source": [
        "# Part 2: Tokenizing and Stemming"
      ]
    },
    {
      "cell_type": "markdown",
      "metadata": {
        "collapsed": true,
        "id": "GHHIaFATE8UY",
        "colab_type": "text"
      },
      "source": [
        "Load stopwords and stemmer function from NLTK library.\n",
        "Stop words are words like \"a\", \"the\", or \"in\" which don't convey significant meaning.\n",
        "Stemming is the process of breaking a word down into its root."
      ]
    },
    {
      "cell_type": "code",
      "metadata": {
        "id": "3gSwiUBRE8UY",
        "colab_type": "code",
        "outputId": "633acbe0-7579-4c4e-ffb2-b1fa94343607",
        "colab": {
          "base_uri": "https://localhost:8080/",
          "height": 51
        }
      },
      "source": [
        "# Use nltk's English stopwords.\n",
        "stopwords = nltk.corpus.stopwords.words('english')\n",
        "\n",
        "print (\"We use \" + str(len(stopwords)) + \" stop-words from nltk library.\")\n",
        "print (stopwords[:10])"
      ],
      "execution_count": 8,
      "outputs": [
        {
          "output_type": "stream",
          "text": [
            "We use 179 stop-words from nltk library.\n",
            "['i', 'me', 'my', 'myself', 'we', 'our', 'ours', 'ourselves', 'you', \"you're\"]\n"
          ],
          "name": "stdout"
        }
      ]
    },
    {
      "cell_type": "code",
      "metadata": {
        "id": "e50130X8E8Uc",
        "colab_type": "code",
        "colab": {}
      },
      "source": [
        "from nltk.stem.snowball import SnowballStemmer\n",
        "stemmer = SnowballStemmer(\"english\")\n",
        "\n",
        "# tokenization and stemming\n",
        "def tokenization_and_stemming(text):\n",
        "    # exclude stop words and tokenize the document, generate a list of string \n",
        "    tokens = [word.lower() for word in nltk.word_tokenize(text) if word not in stopwords]\n",
        "\n",
        "    filtered_tokens = []\n",
        "    \n",
        "    # filter out any tokens not containing letters (e.g., numeric tokens, raw punctuation)\n",
        "    for token in tokens:\n",
        "        if re.search('[a-zA-Z]', token):\n",
        "            filtered_tokens.append(token)\n",
        "            \n",
        "    # stemming\n",
        "    stems = [stemmer.stem(t) for t in filtered_tokens]\n",
        "    return stems\n",
        "\n",
        "# tokenization without stemming\n",
        "def tokenization(text):\n",
        "    tokens = [word.lower() for sent in nltk.sent_tokenize(text) for word in nltk.word_tokenize(sent) if word not in stopwords]\n",
        "    filtered_tokens = []\n",
        "    for token in tokens:\n",
        "        if re.search('[a-zA-Z]', token):\n",
        "            filtered_tokens.append(token)\n",
        "    return filtered_tokens"
      ],
      "execution_count": 0,
      "outputs": []
    },
    {
      "cell_type": "code",
      "metadata": {
        "id": "BwbA6hETE8Uf",
        "colab_type": "code",
        "outputId": "2eb78bdd-8065-4ca7-bad0-232109cee0e1",
        "colab": {
          "base_uri": "https://localhost:8080/",
          "height": 204
        }
      },
      "source": [
        "# tokenization and stemming\n",
        "tokenization_and_stemming(data[0])"
      ],
      "execution_count": 10,
      "outputs": [
        {
          "output_type": "execute_result",
          "data": {
            "text/plain": [
              "['absolut',\n",
              " 'love',\n",
              " 'watch',\n",
              " 'get',\n",
              " 'compliment',\n",
              " 'almost',\n",
              " 'everi',\n",
              " 'time',\n",
              " 'i',\n",
              " 'wear',\n",
              " 'dainti']"
            ]
          },
          "metadata": {
            "tags": []
          },
          "execution_count": 10
        }
      ]
    },
    {
      "cell_type": "markdown",
      "metadata": {
        "id": "WtDXMCeME8Uh",
        "colab_type": "text"
      },
      "source": [
        "Use our defined functions to analyze (i.e. tokenize, stem) our reviews."
      ]
    },
    {
      "cell_type": "code",
      "metadata": {
        "id": "CNtXZ3RlE8Ui",
        "colab_type": "code",
        "colab": {}
      },
      "source": [
        "# 1. do tokenization and stemming for all the documents\n",
        "# 2. also just do tokenization for all the documents\n",
        "# the goal is to create a mapping from stemmed words to original tokenized words for result interpretation.\n",
        "docs_stemmed = []\n",
        "docs_tokenized = []\n",
        "for i in data:\n",
        "    tokenized_and_stemmed_results = tokenization_and_stemming(i)\n",
        "    docs_stemmed.extend(tokenized_and_stemmed_results)\n",
        "    \n",
        "    tokenized_results = tokenization(i)\n",
        "    docs_tokenized.extend(tokenized_results)"
      ],
      "execution_count": 0,
      "outputs": []
    },
    {
      "cell_type": "code",
      "metadata": {
        "id": "tq4ghw8XxXZn",
        "colab_type": "code",
        "colab": {}
      },
      "source": [
        "# create a mapping from stemmed words to original words\n",
        "vocab_frame_dict = {docs_stemmed[x]:docs_tokenized[x] for x in range(len(docs_stemmed))}"
      ],
      "execution_count": 0,
      "outputs": []
    },
    {
      "cell_type": "markdown",
      "metadata": {
        "collapsed": true,
        "id": "QAWdFqL5E8Uo",
        "colab_type": "text"
      },
      "source": [
        "# Part 3: TF-IDF\n",
        "\n",
        "TF: Term Frequency\n",
        "\n",
        "IDF: Inverse Document Frequency\n",
        "\n"
      ]
    },
    {
      "cell_type": "code",
      "metadata": {
        "id": "k-XH7R4pE8Up",
        "colab_type": "code",
        "outputId": "d2f0ea63-7687-45c9-dd21-299c86083c7c",
        "colab": {
          "base_uri": "https://localhost:8080/",
          "height": 88
        }
      },
      "source": [
        "# define vectorizer parameters\n",
        "# TfidfVectorizer will help us to create tf-idf matrix\n",
        "# max_df : maximum document frequency for the given word\n",
        "# min_df : minimum document frequency for the given word\n",
        "# max_features: maximum number of words\n",
        "# use_idf: if not true, we only calculate tf\n",
        "# stop_words : built-in stop words\n",
        "# tokenizer: how to tokenize the document\n",
        "# ngram_range: (min_value, max_value), eg. (1, 3) means the result will include 1-gram, 2-gram, 3-gram\n",
        "tfidf_model = TfidfVectorizer(max_df=0.99, max_features=1000,\n",
        "                                 min_df=0.01, stop_words='english',\n",
        "                                 use_idf=True, tokenizer=tokenization_and_stemming, ngram_range=(1,1))\n",
        "\n",
        "tfidf_matrix = tfidf_model.fit_transform(data) #fit the vectorizer to synopses\n",
        "\n",
        "print (\"In total, there are \" + str(tfidf_matrix.shape[0]) + \\\n",
        "      \" reviews and \" + str(tfidf_matrix.shape[1]) + \" terms.\")"
      ],
      "execution_count": 13,
      "outputs": [
        {
          "output_type": "stream",
          "text": [
            "/usr/local/lib/python3.6/dist-packages/sklearn/feature_extraction/text.py:385: UserWarning: Your stop_words may be inconsistent with your preprocessing. Tokenizing the stop words generated tokens ['afterward', 'alon', 'alreadi', 'alway', 'anoth', 'anyon', 'anyth', 'anywher', 'becam', 'becom', 'besid', 'cri', 'describ', 'els', 'elsewher', 'empti', 'everi', 'everyon', 'everyth', 'everywher', 'fifti', 'forti', 'henc', 'hereaft', 'herebi', 'howev', 'hundr', 'inde', 'mani', 'meanwhil', 'moreov', 'nobodi', 'noon', 'noth', 'nowher', 'otherwis', 'perhap', 'pleas', 'sever', 'sinc', 'sincer', 'sixti', 'someon', 'someth', 'sometim', 'somewher', 'thenc', 'thereaft', 'therebi', 'therefor', 'togeth', 'twelv', 'twenti', 'whatev', 'whenc', 'whenev', 'wherea', 'whereaft', 'wherebi', 'wherev'] not in stop_words.\n",
            "  'stop_words.' % sorted(inconsistent))\n"
          ],
          "name": "stderr"
        },
        {
          "output_type": "stream",
          "text": [
            "In total, there are 1000 reviews and 245 terms.\n"
          ],
          "name": "stdout"
        }
      ]
    },
    {
      "cell_type": "code",
      "metadata": {
        "id": "GoRH6IDVE8Ur",
        "colab_type": "code",
        "outputId": "9d054a20-50e9-4bda-ac86-1292c62a328c",
        "colab": {
          "base_uri": "https://localhost:8080/",
          "height": 374
        }
      },
      "source": [
        "# check the parameters\n",
        "tfidf_model.get_params()"
      ],
      "execution_count": 14,
      "outputs": [
        {
          "output_type": "execute_result",
          "data": {
            "text/plain": [
              "{'analyzer': 'word',\n",
              " 'binary': False,\n",
              " 'decode_error': 'strict',\n",
              " 'dtype': numpy.float64,\n",
              " 'encoding': 'utf-8',\n",
              " 'input': 'content',\n",
              " 'lowercase': True,\n",
              " 'max_df': 0.99,\n",
              " 'max_features': 1000,\n",
              " 'min_df': 0.01,\n",
              " 'ngram_range': (1, 1),\n",
              " 'norm': 'l2',\n",
              " 'preprocessor': None,\n",
              " 'smooth_idf': True,\n",
              " 'stop_words': 'english',\n",
              " 'strip_accents': None,\n",
              " 'sublinear_tf': False,\n",
              " 'token_pattern': '(?u)\\\\b\\\\w\\\\w+\\\\b',\n",
              " 'tokenizer': <function __main__.tokenization_and_stemming>,\n",
              " 'use_idf': True,\n",
              " 'vocabulary': None}"
            ]
          },
          "metadata": {
            "tags": []
          },
          "execution_count": 14
        }
      ]
    },
    {
      "cell_type": "markdown",
      "metadata": {
        "id": "whu1pCOiE8Uv",
        "colab_type": "text"
      },
      "source": [
        "Save the terms identified by TF-IDF."
      ]
    },
    {
      "cell_type": "code",
      "metadata": {
        "id": "lLdKk6n-E8Uw",
        "colab_type": "code",
        "colab": {}
      },
      "source": [
        "# words\n",
        "tf_selected_words = tfidf_model.get_feature_names()"
      ],
      "execution_count": 0,
      "outputs": []
    },
    {
      "cell_type": "code",
      "metadata": {
        "id": "6mWvzNWQFB26",
        "colab_type": "code",
        "outputId": "d9c2c340-270d-4093-efb5-4e2291ad6aee",
        "colab": {
          "base_uri": "https://localhost:8080/",
          "height": 1000
        }
      },
      "source": [
        "# print out words\n",
        "tf_selected_words"
      ],
      "execution_count": 16,
      "outputs": [
        {
          "output_type": "execute_result",
          "data": {
            "text/plain": [
              "[\"'m\",\n",
              " \"'s\",\n",
              " 'abl',\n",
              " 'absolut',\n",
              " 'accur',\n",
              " 'actual',\n",
              " 'adjust',\n",
              " 'alarm',\n",
              " 'alreadi',\n",
              " 'alway',\n",
              " 'amaz',\n",
              " 'amazon',\n",
              " 'anoth',\n",
              " 'arm',\n",
              " 'arriv',\n",
              " 'automat',\n",
              " 'awesom',\n",
              " 'bad',\n",
              " 'band',\n",
              " 'batteri',\n",
              " 'beauti',\n",
              " 'best',\n",
              " 'better',\n",
              " 'big',\n",
              " 'bit',\n",
              " 'black',\n",
              " 'blue',\n",
              " 'bought',\n",
              " 'box',\n",
              " 'br',\n",
              " 'bracelet',\n",
              " 'brand',\n",
              " 'break',\n",
              " 'bright',\n",
              " 'broke',\n",
              " 'button',\n",
              " 'buy',\n",
              " 'ca',\n",
              " 'came',\n",
              " 'case',\n",
              " 'casio',\n",
              " 'chang',\n",
              " 'cheap',\n",
              " 'clasp',\n",
              " 'classi',\n",
              " 'clock',\n",
              " 'color',\n",
              " 'come',\n",
              " 'comfort',\n",
              " 'compliment',\n",
              " 'cool',\n",
              " 'cost',\n",
              " 'crown',\n",
              " 'crystal',\n",
              " 'dark',\n",
              " 'date',\n",
              " 'daughter',\n",
              " 'day',\n",
              " 'deal',\n",
              " 'definit',\n",
              " 'deliveri',\n",
              " 'design',\n",
              " 'dial',\n",
              " 'differ',\n",
              " 'difficult',\n",
              " 'disappoint',\n",
              " 'display',\n",
              " 'dress',\n",
              " 'durabl',\n",
              " 'easi',\n",
              " 'easili',\n",
              " 'end',\n",
              " 'everi',\n",
              " 'everyday',\n",
              " 'everyth',\n",
              " 'exact',\n",
              " 'excel',\n",
              " 'expect',\n",
              " 'expens',\n",
              " 'face',\n",
              " 'fair',\n",
              " 'far',\n",
              " 'fast',\n",
              " 'featur',\n",
              " 'feel',\n",
              " 'fell',\n",
              " 'fine',\n",
              " 'finish',\n",
              " 'fit',\n",
              " 'function',\n",
              " 'gave',\n",
              " 'gift',\n",
              " 'gold',\n",
              " 'good',\n",
              " 'got',\n",
              " 'great',\n",
              " 'hand',\n",
              " 'happi',\n",
              " 'hard',\n",
              " 'heavi',\n",
              " 'high',\n",
              " 'hold',\n",
              " 'honest',\n",
              " 'hope',\n",
              " 'hour',\n",
              " 'howev',\n",
              " 'husband',\n",
              " 'includ',\n",
              " 'instruct',\n",
              " 'invicta',\n",
              " 'issu',\n",
              " 'item',\n",
              " 'kept',\n",
              " 'know',\n",
              " 'larg',\n",
              " 'leather',\n",
              " 'light',\n",
              " 'like',\n",
              " 'link',\n",
              " 'littl',\n",
              " 'll',\n",
              " 'long',\n",
              " 'look',\n",
              " 'lot',\n",
              " 'love',\n",
              " 'low',\n",
              " 'make',\n",
              " 'mani',\n",
              " 'metal',\n",
              " 'minut',\n",
              " 'model',\n",
              " 'money',\n",
              " 'month',\n",
              " 'movement',\n",
              " \"n't\",\n",
              " 'need',\n",
              " 'new',\n",
              " 'nice',\n",
              " 'night',\n",
              " 'normal',\n",
              " 'number',\n",
              " 'old',\n",
              " 'open',\n",
              " 'oper',\n",
              " 'order',\n",
              " 'origin',\n",
              " 'overal',\n",
              " 'packag',\n",
              " 'paid',\n",
              " 'pay',\n",
              " 'perfect',\n",
              " 'perform',\n",
              " 'person',\n",
              " 'pictur',\n",
              " 'piec',\n",
              " 'pin',\n",
              " 'place',\n",
              " 'plastic',\n",
              " 'pleas',\n",
              " 'point',\n",
              " 'press',\n",
              " 'pretti',\n",
              " 'price',\n",
              " 'problem',\n",
              " 'product',\n",
              " 'purchas',\n",
              " 'qualiti',\n",
              " 'quick',\n",
              " 'quit',\n",
              " 'rate',\n",
              " 'read',\n",
              " 'real',\n",
              " 'realli',\n",
              " 'reason',\n",
              " 'receiv',\n",
              " 'recommend',\n",
              " 'red',\n",
              " 'remov',\n",
              " 'replac',\n",
              " 'resist',\n",
              " 'return',\n",
              " 'review',\n",
              " 'right',\n",
              " 'run',\n",
              " 'said',\n",
              " 'say',\n",
              " 'screw',\n",
              " 'second',\n",
              " 'seiko',\n",
              " 'seller',\n",
              " 'send',\n",
              " 'sent',\n",
              " 'set',\n",
              " 'sever',\n",
              " 'ship',\n",
              " 'short',\n",
              " 'simpl',\n",
              " 'sinc',\n",
              " 'size',\n",
              " 'small',\n",
              " 'smaller',\n",
              " 'solid',\n",
              " 'someth',\n",
              " 'somewhat',\n",
              " 'son',\n",
              " 'star',\n",
              " 'start',\n",
              " 'stop',\n",
              " 'strap',\n",
              " 'sturdi',\n",
              " 'style',\n",
              " 'stylish',\n",
              " 'super',\n",
              " 'sure',\n",
              " 'surpris',\n",
              " 'swim',\n",
              " 'tell',\n",
              " 'thank',\n",
              " 'thing',\n",
              " 'think',\n",
              " 'thought',\n",
              " 'time',\n",
              " 'timex',\n",
              " 'tini',\n",
              " 'tri',\n",
              " 'turn',\n",
              " 'use',\n",
              " 'valu',\n",
              " 've',\n",
              " 'want',\n",
              " 'watch',\n",
              " 'water',\n",
              " 'way',\n",
              " 'wear',\n",
              " 'week',\n",
              " 'weight',\n",
              " 'went',\n",
              " 'wife',\n",
              " 'wind',\n",
              " 'wish',\n",
              " 'work',\n",
              " 'worn',\n",
              " 'worth',\n",
              " 'wrist',\n",
              " 'year']"
            ]
          },
          "metadata": {
            "tags": []
          },
          "execution_count": 16
        }
      ]
    },
    {
      "cell_type": "markdown",
      "metadata": {
        "id": "XEcwtws5E8U8",
        "colab_type": "text"
      },
      "source": [
        "# Part 4: K-means clustering"
      ]
    },
    {
      "cell_type": "code",
      "metadata": {
        "scrolled": true,
        "id": "7LJQ5i3IE8U9",
        "colab_type": "code",
        "colab": {}
      },
      "source": [
        "# k-means clustering\n",
        "from sklearn.cluster import KMeans\n",
        "\n",
        "num_clusters = 5\n",
        "\n",
        "# number of clusters\n",
        "km = KMeans(n_clusters=5)\n",
        "km.fit(tfidf_matrix)\n",
        "\n",
        "clusters = km.labels_.tolist()"
      ],
      "execution_count": 0,
      "outputs": []
    },
    {
      "cell_type": "code",
      "metadata": {
        "id": "54meYFcIpNUc",
        "colab_type": "code",
        "outputId": "60c46c53-4837-45fd-cfea-5ffcea30f826",
        "colab": {
          "base_uri": "https://localhost:8080/",
          "height": 51
        }
      },
      "source": [
        "tfidf_matrix"
      ],
      "execution_count": 18,
      "outputs": [
        {
          "output_type": "execute_result",
          "data": {
            "text/plain": [
              "<1000x245 sparse matrix of type '<class 'numpy.float64'>'\n",
              "\twith 7777 stored elements in Compressed Sparse Row format>"
            ]
          },
          "metadata": {
            "tags": []
          },
          "execution_count": 18
        }
      ]
    },
    {
      "cell_type": "markdown",
      "metadata": {
        "id": "fboVpRAfE8U-",
        "colab_type": "text"
      },
      "source": [
        "## 4.1. Analyze K-means Result"
      ]
    },
    {
      "cell_type": "code",
      "metadata": {
        "id": "KGs4aIIME8U_",
        "colab_type": "code",
        "colab": {}
      },
      "source": [
        "# create DataFrame films from all of the input files.\n",
        "product = { 'review': df[:1000].product_title, 'cluster': clusters}\n",
        "frame = pd.DataFrame(product, columns = ['review', 'cluster'])"
      ],
      "execution_count": 0,
      "outputs": []
    },
    {
      "cell_type": "code",
      "metadata": {
        "id": "APmEUmm6E8VC",
        "colab_type": "code",
        "outputId": "0d5931d1-1965-4826-ec4b-6a9c55b0dcc6",
        "colab": {
          "base_uri": "https://localhost:8080/",
          "height": 359
        }
      },
      "source": [
        "frame.head(10)"
      ],
      "execution_count": 20,
      "outputs": [
        {
          "output_type": "execute_result",
          "data": {
            "text/html": [
              "<div>\n",
              "<style scoped>\n",
              "    .dataframe tbody tr th:only-of-type {\n",
              "        vertical-align: middle;\n",
              "    }\n",
              "\n",
              "    .dataframe tbody tr th {\n",
              "        vertical-align: top;\n",
              "    }\n",
              "\n",
              "    .dataframe thead th {\n",
              "        text-align: right;\n",
              "    }\n",
              "</style>\n",
              "<table border=\"1\" class=\"dataframe\">\n",
              "  <thead>\n",
              "    <tr style=\"text-align: right;\">\n",
              "      <th></th>\n",
              "      <th>review</th>\n",
              "      <th>cluster</th>\n",
              "    </tr>\n",
              "  </thead>\n",
              "  <tbody>\n",
              "    <tr>\n",
              "      <th>0</th>\n",
              "      <td>Invicta Women's 15150 \"Angel\" 18k Yellow Gold ...</td>\n",
              "      <td>3</td>\n",
              "    </tr>\n",
              "    <tr>\n",
              "      <th>1</th>\n",
              "      <td>Kenneth Cole New York Women's KC4944 Automatic...</td>\n",
              "      <td>3</td>\n",
              "    </tr>\n",
              "    <tr>\n",
              "      <th>2</th>\n",
              "      <td>Ritche 22mm Black Stainless Steel Bracelet Wat...</td>\n",
              "      <td>1</td>\n",
              "    </tr>\n",
              "    <tr>\n",
              "      <th>3</th>\n",
              "      <td>Citizen Men's BM8180-03E Eco-Drive Stainless S...</td>\n",
              "      <td>1</td>\n",
              "    </tr>\n",
              "    <tr>\n",
              "      <th>4</th>\n",
              "      <td>Orient ER27009B Men's Symphony Automatic Stain...</td>\n",
              "      <td>1</td>\n",
              "    </tr>\n",
              "    <tr>\n",
              "      <th>5</th>\n",
              "      <td>Casio Men's GW-9400BJ-1JF G-Shock Master of G ...</td>\n",
              "      <td>3</td>\n",
              "    </tr>\n",
              "    <tr>\n",
              "      <th>6</th>\n",
              "      <td>Fossil Women's ES3851 Urban Traveler Multifunc...</td>\n",
              "      <td>2</td>\n",
              "    </tr>\n",
              "    <tr>\n",
              "      <th>7</th>\n",
              "      <td>INFANTRY Mens Night Vision Analog Quartz Wrist...</td>\n",
              "      <td>1</td>\n",
              "    </tr>\n",
              "    <tr>\n",
              "      <th>8</th>\n",
              "      <td>G-Shock Men's Grey Sport Watch</td>\n",
              "      <td>2</td>\n",
              "    </tr>\n",
              "    <tr>\n",
              "      <th>9</th>\n",
              "      <td>Heiden Quad Watch Winder in Black Leather</td>\n",
              "      <td>1</td>\n",
              "    </tr>\n",
              "  </tbody>\n",
              "</table>\n",
              "</div>"
            ],
            "text/plain": [
              "                                              review  cluster\n",
              "0  Invicta Women's 15150 \"Angel\" 18k Yellow Gold ...        3\n",
              "1  Kenneth Cole New York Women's KC4944 Automatic...        3\n",
              "2  Ritche 22mm Black Stainless Steel Bracelet Wat...        1\n",
              "3  Citizen Men's BM8180-03E Eco-Drive Stainless S...        1\n",
              "4  Orient ER27009B Men's Symphony Automatic Stain...        1\n",
              "5  Casio Men's GW-9400BJ-1JF G-Shock Master of G ...        3\n",
              "6  Fossil Women's ES3851 Urban Traveler Multifunc...        2\n",
              "7  INFANTRY Mens Night Vision Analog Quartz Wrist...        1\n",
              "8                     G-Shock Men's Grey Sport Watch        2\n",
              "9          Heiden Quad Watch Winder in Black Leather        1"
            ]
          },
          "metadata": {
            "tags": []
          },
          "execution_count": 20
        }
      ]
    },
    {
      "cell_type": "code",
      "metadata": {
        "id": "Ht1SbbOSE8VE",
        "colab_type": "code",
        "outputId": "662197b8-ff35-4a26-8c1b-b3caa0b52fed",
        "colab": {
          "base_uri": "https://localhost:8080/",
          "height": 221
        }
      },
      "source": [
        "print (\"Number of reviews included in each cluster:\")\n",
        "frame['cluster'].value_counts().to_frame()"
      ],
      "execution_count": 21,
      "outputs": [
        {
          "output_type": "stream",
          "text": [
            "Number of reviews included in each cluster:\n"
          ],
          "name": "stdout"
        },
        {
          "output_type": "execute_result",
          "data": {
            "text/html": [
              "<div>\n",
              "<style scoped>\n",
              "    .dataframe tbody tr th:only-of-type {\n",
              "        vertical-align: middle;\n",
              "    }\n",
              "\n",
              "    .dataframe tbody tr th {\n",
              "        vertical-align: top;\n",
              "    }\n",
              "\n",
              "    .dataframe thead th {\n",
              "        text-align: right;\n",
              "    }\n",
              "</style>\n",
              "<table border=\"1\" class=\"dataframe\">\n",
              "  <thead>\n",
              "    <tr style=\"text-align: right;\">\n",
              "      <th></th>\n",
              "      <th>cluster</th>\n",
              "    </tr>\n",
              "  </thead>\n",
              "  <tbody>\n",
              "    <tr>\n",
              "      <th>1</th>\n",
              "      <td>660</td>\n",
              "    </tr>\n",
              "    <tr>\n",
              "      <th>3</th>\n",
              "      <td>102</td>\n",
              "    </tr>\n",
              "    <tr>\n",
              "      <th>2</th>\n",
              "      <td>99</td>\n",
              "    </tr>\n",
              "    <tr>\n",
              "      <th>4</th>\n",
              "      <td>76</td>\n",
              "    </tr>\n",
              "    <tr>\n",
              "      <th>0</th>\n",
              "      <td>63</td>\n",
              "    </tr>\n",
              "  </tbody>\n",
              "</table>\n",
              "</div>"
            ],
            "text/plain": [
              "   cluster\n",
              "1      660\n",
              "3      102\n",
              "2       99\n",
              "4       76\n",
              "0       63"
            ]
          },
          "metadata": {
            "tags": []
          },
          "execution_count": 21
        }
      ]
    },
    {
      "cell_type": "code",
      "metadata": {
        "id": "phDfUdh5qL9G",
        "colab_type": "code",
        "outputId": "e29dc940-a206-4dc5-f8aa-8aec104cbfb7",
        "colab": {
          "base_uri": "https://localhost:8080/",
          "height": 187
        }
      },
      "source": [
        "km.cluster_centers_"
      ],
      "execution_count": 22,
      "outputs": [
        {
          "output_type": "execute_result",
          "data": {
            "text/plain": [
              "array([[0.        , 0.00881011, 0.        , ..., 0.        , 0.00755492,\n",
              "        0.        ],\n",
              "       [0.0142842 , 0.05344821, 0.00526886, ..., 0.00627404, 0.01690282,\n",
              "        0.01246096],\n",
              "       [0.00171607, 0.00863063, 0.00318382, ..., 0.00213778, 0.00375703,\n",
              "        0.02279456],\n",
              "       [0.        , 0.01714556, 0.        , ..., 0.01232008, 0.01429803,\n",
              "        0.00428619],\n",
              "       [0.        , 0.03923788, 0.        , ..., 0.        , 0.00818984,\n",
              "        0.        ]])"
            ]
          },
          "metadata": {
            "tags": []
          },
          "execution_count": 22
        }
      ]
    },
    {
      "cell_type": "code",
      "metadata": {
        "id": "tQg0CF11chKK",
        "colab_type": "code",
        "outputId": "d4020fa3-f077-476b-d8ce-6e4ba5ace6a8",
        "colab": {
          "base_uri": "https://localhost:8080/",
          "height": 394
        }
      },
      "source": [
        "print (\"<Document clustering result by K-means>\")\n",
        "\n",
        "#km.cluster_centers_ denotes the importances of each items in centroid.\n",
        "#We need to sort it in decreasing-order and get the top k items.\n",
        "order_centroids = km.cluster_centers_.argsort()[:, ::-1] \n",
        "\n",
        "Cluster_keywords_summary = {}\n",
        "for i in range(num_clusters):\n",
        "    print (\"Cluster \" + str(i) + \" words:\", end='')\n",
        "    Cluster_keywords_summary[i] = []\n",
        "    for ind in order_centroids[i, :6]: #replace 6 with n words per cluster\n",
        "        Cluster_keywords_summary[i].append(vocab_frame_dict[tf_selected_words[ind]])\n",
        "        print (vocab_frame_dict[tf_selected_words[ind]] + \",\", end='')\n",
        "    print ()\n",
        "    \n",
        "    cluster_reviews = frame[frame.cluster==i].review.tolist()\n",
        "    print (\"Cluster \" + str(i) + \" reviews (\" + str(len(cluster_reviews)) + \" reviews): \")\n",
        "    print (\", \".join(cluster_reviews))\n",
        "    print ()"
      ],
      "execution_count": 23,
      "outputs": [
        {
          "output_type": "stream",
          "text": [
            "<Document clustering result by K-means>\n",
            "Cluster 0 words:nice,watch,price,looks,really,good,\n",
            "Cluster 0 reviews (63 reviews): \n",
            "Guess U13630G1 Men's day and date Gunmetal dial Gunmetal tone bracelet, Casio Men's MRW200H-7EV Sport Resin Watch, Casio G-shock Mudman Multiband6 Japanese Model [ Gw-9300-1jf ], Stuhrling Original Men's 395.33U16 Aquadiver Regatta Analog Swiss Quartz Stainless Steel Link Bracelet Watch, Invicta Men's Bolt 12298, Invicta Men's 3332 Force Collection Stainless Steel Left-Handed Watch with Black Leather Band, Timex Ironman Rugged 30 Full-Size Watch, Nautica Men's A16577G BFD 105 Chrono Analog Display Analog Quartz Black Watch, Invicta Women's 16267 ANGEL Analog Display Japanese Quartz Grey Watch, U.S. Polo Assn. Classic Men's US4023 Watch with Black Leather Band, Men's Gold-Tone Casio World Time Stainless Steel Watch A500WGA-1, Daniel Wellington Women's 0506DW Classic Southhampton Stainless Steel Watch With Multi-Color Striped Band, Domire Fashion Accessories Trial Order New Quartz Fashion Weave Wrap Around Leather Bracelet Lady Woman Leaf Wrist Watch, G-Shock GA-100B LTD Edition White GA-100B-7 Watch, Caddy Bay Collection Vintage Dark Walnut Wood Watch Case Display Storage Watch Box Glass Top Holds 20+ Watches With Adjustable Soft Pillows and High Clearance for Larger Watches, Readeel Sports Men Watch Stainless Steel Quartz Men Watch LED Dual Display Watch, Red, Stuhrling Original Men's 824.01 Regatta Analog Japanese Quartz Stainless Steel Watch, ShoppeWatch Pocket Watch Quartz Movement Black Case White Dial Arabic Numeral with Chain Full Hunter PW23, Michael Kors Women's Audrina Blue Watch MK6236, G-Shock Ga-110 Watch - Men's ( White/Multi ), GUESS Men's U0496G4 Vintage Iconic Rose Gold-Tone and Navy Dial Watch, Timex Women's T2P050KW Ameritus Sport Black Dial Multi-Colored Numbers, Black Croco Patterned Leather Strap Watch, Timex Men's Q7B810 Expedition Sport Genuine Leather 18mm Brown and Green Replacement Watchband, Fossil Am4532p Cecile Multifunction Sand Leather Watch Watch For Women, Nine West Women's NW/1584TQGB Turquoise Sunray Dial Gold-Tone Bracelet Watch, StrapsCo NATO Strap Ballistic Nylon Watch Band w/ 5 Rings in Matt Black, WEIDE Men's Digital Electronic Waterproof LED Sport Watch Casual Quartz Military Multifunction 12H/24H Time Back Light with Simple Design Alarm Stopwatch Calendar Month Date Day Week - Black, Nine West Women's NW/1585PKSB Hot Pink Dial Silver-Tone Bracelet Watch, Stuhrling Original Men's 699.02 Aviator Quartz Day and Date Grey Dial Brown Leather Band Watch, Invicta Men's 6792 Pro Diver Collection Chronograph 18k Gold-Plated and Stainless Steel Watch, Timex Men's Easy Reader Day-Date Expansion Band Watch, Casio #MTP1374L-1AV Men's Standard Leather Band Multi-Function Black Dial Watch, Kezzi Womens Watch K842 Quartz Dress Wrist Watches Ceramic Bracelet Casual Classic Waterproof Blue, MULCO Men's MW2-6263-025 Analog Display Japanese Quartz Black Watch, Casio Men's AMW320D-9EV Ana-Digi Alarm Chronograph Dive Watch, Bling Jewelry Geneva Rose Gold Plated Classic Round CZ Ladies Watch, SO&CO New York Men's 5027.3 Monticello Stainless Steel TAchymeter Day and Date Watch with Nylon-Covered Leather Band, 18mm NATO MOD G10 Olive Drab Green Nylon Military Watch Band Strap, Seiko Men's SSC021 Solar Diver Chronograph Watch, Treehut Mens Wooden Bamboo Watch with Genuine Brown Leather Strap Quartz Analog with Quality Miyota Movement, 1.7 inches, XOXO Women's XO5218 Black Dial Two-Tone Half Cuff and Half Bracelet Watch, Tommy Hilfiger Men's 1790877 Silver-Tone Stainless Steel Watch, Victorinox Unisex Infantry Analog Display Swiss Quartz Watch, Mokingtop®New 20mm Waterproof Silicone Rubber Watch Strap Band Deployment Buckle, Nine West Grey Textured Bracelet Watch, Timex Ironman Classic 30 Full-Size Watch, Womens Timex T42591 Womens Camper Watch PINK INDIGLO NIGHT LIGHT DATE, Kenneth Cole New York Women's KC2861 Automatic Analog Display Japanese Automatic White Watch, Timex Men's T49551 Expedition E-Compass Leather Watch, Nixon Men's A278-1089-00 48-20 Chrono P Analog Display Japanese Quartz Watch, Nine West White Textured Bracelet Watch, PUMA Men's PU100041003 Motor Sport Collection Top Podium Ana-digit Watch, Disney Kids' FZN3560 Frozen Anna and Elsa Pink Watch with Plastic Band, 40 Bestpresso Nespresso Compatible Gourmet Coffee Capsules - Nespresso Pods Alternative: Intenso Blend Natural Espresso Flavor (High Intensity) - Certified Genuine Espresso, Invicta Men's 19192 Pro Diver Analog Display Swiss Quartz Gold Watch, ESQ Movado Unisex 07301442 \"ESQ ONE\" Stainless Steel Watch with Black Silicone Band, Armitron Sport Men's 40/8330BLK Brown Accented Digital Chronograph Black Nylon Strap Watch, Nautica Men's N13616G BFD 102 Stainless Steel and Brown Leather Watch, Authentic German WW-II Kriegsmarine Push-Button Heavy Brass Compass with Leather Pouch, Casio Men's EQS500DB-1A1 Edifice Tough Solar Stainless Steel Multi-Function Watch with Link Bracelet, Casio Women's B640WC-5AEF Retro Digital Watch, Rolex Day-Date II 2 President Yellow Gold Watch 218238, Invicta Men's 9010 Pro Diver Collection Automatic Watch\n",
            "\n",
            "Cluster 1 words:watch,'s,like,looks,n't,band,\n",
            "Cluster 1 reviews (660 reviews): \n",
            "Ritche 22mm Black Stainless Steel Bracelet Watch Band Strap Pebble Time/Pebble Classic, Citizen Men's BM8180-03E Eco-Drive Stainless Steel Watch with Green Canvas Band, Orient ER27009B Men's Symphony Automatic Stainless Steel Black Dial Mechanical Watch, INFANTRY Mens Night Vision Analog Quartz Wrist Watch with Nato Nylon Watchband-Red., Heiden Quad Watch Winder in Black Leather, Fossil Women's ES3621 Serena Crystal-Accented Two-Tone Stainless Steel Watch, Casio General Men's Watches Sporty Digital AE-2000W-1AVDF - WW, 2Tone Gold Silver Cable Band Ladies Bangle Cuff Watch, Bulova Men's 98B143 Precisionist Charcoal Grey Dial Bracelet Watch, Casio - G-Shock - Gulfmaster - Black - GWN1000C-1A, Invicta Men's 3329 Force Collection Lefty Watch, Seiko Women's SUT068 Dress Solar Classic Diamond-Accented Two-Tone Stainless Steel Watch, Anne Klein Women's 109271MPTT Swarovski Crystal Accented Two-Tone Multi-Chain Bracelet Watch, Nixon Men's Geo Volt Sentry Stainless Steel Watch with Link Bracelet, Nautica Men's N14699G BFD 101 Chrono Classic Stainless Steel Watch with Brown Band, Timex Women's Q7B860 Padded Calfskin 8mm Black Replacement Watchband, Movado Men's 0606545 \"Museum\" Perforated Black-Rubber Strap Sport Watch, Invicta Men's 6674 Corduba Chronograph Black Dial Polyurethane Watch, Szanto Men's SZ 2001 2000 Series Classic Vintage-Inspired Stainless Steel Watch with Pebbled Leather Band, Casio F-108WH-2AEF Mens Blue Digital Watch, Invicta Men's 8928OB Pro Diver Gold Stainless Steel Two-Tone Automatic Watch, BOS Men's Automatic self-wind mechanical Pointer Skeleton Watch Black Dial Stainless Steel Band 9008, INFANTRY Mens 50mm Big Face Military Tactical Analog Digital Sport Wrist Watch Black Silicone Band, BUREI Dress Women's Minimalist Wrist Watches with Date Analog Quartz Stainless Steel and Ultra Slim Dial, Motorola Moto 360 Modern Timepiece Smart Watch - Black Leather 00418NARTL, Casio Women's LQ139B-1B Classic Round Analog Watch, Invicta Men's 15256 I-Force Gunmetal Ion-Plated Stainless Steel Watch with Black Leather Strap, Casio Men's Slim Solar Multi-Function Analog-Digital Watch, TS6202BLK 8 Belt Box Organizer Black Leather XL Compartments, Casio Men's GW2310FB-1CR G-Shock Shock Resistant Multifunction Watch, U.S. Polo Assn. Sport Men's US9506 Analog-Digital Display Silver-Tone Watch with Textured Band, Cerentino Women's CR106-TQ  Turquoise Silicone Rubber Rhinestones Watch, Motorola Moto 360 Modern Timepiece Smart Watch - Black Leather 00418NARTL, Ingersoll Men's IN1824CR Monticello Fine Automatic Timepiece Cream Dial Watch, Lucien Piccard Men's 11576-YG-01 Clariden Black Textured Dial Watch, XOXO Women's XO5478 Rhinestone-Accented Two-Tone Watch, Watch Case Press with 12 Nylon Dies, Watch Case Closer Set, iStrap Calfskin Leather Watch Band Replacement Choice of Color & Width (18mm,19mm, 20mm,21mm or 22mm), G-SHOCK Men's GA-100 Neon Highlights Watch, Invicta Men's 8926OB Pro Diver Stainless Steel Automatic Watch with Link Bracelet, Absolute Hot Iron man Super Hero build-in Blue LED for Men's luxury Army military Wrist Watches, Seiko Men's White Dial Brown Leather Easy Reader Solar Calendar Watch, Armitron Sport Women's 25/6416 Easy To Read Dial Resin Strap Watch, Seiko Men's SNK809 Seiko 5 Automatic Stainless Steel Watch with Black Canvas Strap, Tissot Women's T0492103303300 PR 100 Gold-Tone Silver Dial Watch, CASIO BABY-G (BG-6900SG-8JF) GLITTER DIAL SERIES LADY'S WATCH JAPANESE MODEL 2014 JULY RELEASED, Casio Men's AW80V-1BV, Citizen Men's AT8020-54L Blue Angels Stainless Steel Eco-Drive Dress Watch, Outop Wholesale Lot of 5pcs Womens Girls Butterfly Bracelet Wrist Watches, Timex Kids' T7B9829J IronKids Translucent Blue Sport Watch, Cool Men's Racer Military Pilot Army Silicone Sports Watch, Armitron Men's Black Sunray Dial Silvertone Bracelet Watch, Topwell Mens Wood watches, Date Time 24hours Wooden watch with Round Multi-Eyed QUARTZ Wrist Watch for Gift, Armitron Sport Women's 25/6422BLK Easy to Read Dial Black Resin Strap Watch, Swiss Legend Men's 10068-03 Commander II Analog Display Swiss Quartz Blue Watch, Stuhrling Original Men's 219.331657 Symphony Eternity Monterey Swiss Quartz Date Watch, LuckyStore 14mm 5X Watch Band Stainless Steel Spring Bars Strap Link Pin Watchmaker New, red line Men's RL-50042-YG-01 Stealth Chronograph Black Textured Dial Black Silicone Watch, Invicta Men's 14640 I-Force Analog Display Japanese Quartz Black Watch, Tommy Hilfiger  Women's 1781145 Sport Stainless Steel  Watch, GUESS U17531G1 - Bold and Sporty Watch Silver, Armitron Men's 20/5048 Day/Date Function Dial Croco-Grain Leather Strap Watch, Stuhrling Original Men's 238.321K43 Ascot Newberry Analog Swiss Quartz Brown Leather Watch, Timex Expedition Rugged Metal Watch, Tommy Hilfiger  Women's 1781145 Sport Stainless Steel  Watch, Dasone D0014 Women's Quartz White Ceramic Watches with Colorful Diamond Bezel, Tissot Men's T0954173603700 Rose Gold-Tone Chronograph Watch with Brown Leather Band, Armitron Sport Men's 49mm Digital Chronograph Black Strap Watch, Geneva Cat Face With Ears Watch - Mint!, MK6162 Michael Kors Runway Gold-Tone Ladies Watch, Tissot Men's T0494071603100 PR 100 Silver Automatic Dial Watch, Timex Unisex Weekender Analog Quartz Watch, WobL - Pink 8 Alarm Vibrating Reminder Watch, Invicta Watch Sizing Tool, Invicta Men's 17946 Russian Diver Analog Display Swiss Quartz Black Watch, Skagen Men's Ancher Silvertone Watch with Genuine Brown Leather Strap & Blue Dial, Skagen Women's SKW2184 Leonora Stainless Steel Mesh Watch, Akribos XXIV Women's AK765YG Impeccable Gold-Tone Stainless Steel Watch, AMPM24 White Leather Transparent Dial Fashion Lady Girl Wrist Quartz Watch Gift WAA025, Timex Kids' TW7B998009J My First Timex Silver-Tone Watch with Blue Nylon Band, Picard & Cie Eleanor Ladies Watch, Caddy Bay Collection Black Carbon Fiber Glass Top Watch Case Holds 10 Large Watches, Timex Unisex TW2P62400 Weekender Chrono Oversize Blue/Cream/Brown Striped Slip-Thru Nylon Strap Watch, Victorinox Men's 249085 Original XL Swiss Quartz Watch With Black Nylon Band, Retro World Map Womens Quartz Wrist Watch Brown, Casio F108WH Water Resistant Digital Red Resin Strap Watch, Lucien Piccard Men's LP-10339-014-GA-BRW Volos Analog Display Japanese Quartz Brown Watch, Swatch Golden Dial Golden Sparkle Silicone Ladies Watch SUOK704, G-Rescue Solar Atomic Classic Color Watch, Casio Men's WS210H-1AV, Watch Link Remover with Pins, Michael Kors Women's Runway Black Watch MK5191, Orient Men's FER1X002D0 Chicane Analog Display Japanese Automatic Silver Watch, Lowpricenice Cool watches For Men Skeleton Mens Black Automatic Mechanical Sport Wrist Watch Stainless Steel Band, OBAKU HARMONY Stainless Steel Men Watch., Timex Women's T2P4589J Main Street Modern Minis Gold-Tone Watch, Stuhrling Original Women's 'Vogue' Quartz White Casual Watch (Model: 530S2.111EP3), Timex Men's T2N721 Intelligent Quartz Compass Tide Temperature Silver Case Brown Strap Watch, Motorola Moto 360 Modern Timepiece Smart Watch - Black Leather 00418NARTL, G-Shock Men's GA-100 Camouflage Watch, Grey, One Size, Citizen Men's AT9013-03H Rose Gold-Tone Stainless Steel Eco-Drive Watch, Timex Women's T2N436 Elevated Classics Two-Tone Watch with Brown Leather Strap, Lucien Piccard Women's LP-10222-WWSA La Tournette White/Silver-Tone Mother of Pearl Dial Ceramic Watch, HACBIWA Classic Men Big Dial Brown Wrist Watch on Sale Gift, Casio Men's W735H-1AVCF Super Illuminator Watch With Black Resin Band, Lucien Piccard Men's LP-10527-02 Moubra White Dial Black Leather Watch, Casio Men's STB-1000-1CF OmniSync Sports Gear Bluetooth Fitness Smartwatch, TAG Heuer Men's CAP2110.BA0833 Aquaracer Black Chronograph Dial Watch, Timex Marathon TW5K84900 Mid-Size Watch, Seiko QXA520KLH Wall Clock, U.S. Polo Assn. Men's US8211 Analog/Digital Display Sterling Silver Watch, Timex Unisex Originals Oversize Watch, Voguestrap TX39318LBK Allstrap 18mm Black Long-Length Genuine Calf Watchband, Seiko Men's SNN233 Stainless Steel Watch, Invicta Men's 0072 Pro Diver Collection Chronograph 18k Gold-Plated Watch, Pulsar Women's PH8062 Analog Display Japanese Quartz Gold Watch, U.S. Polo Assn. Sport Men's US8170 Black and Gunmetal-Tone Bracelet Watch, Armitron Sport Women's 45/7051 Digital Jelly Strap Watch, Fashion Movie Black&red Deadpool Mask Quartz Pocket Watch Necklace Chain Pendant Mens Womens Gifts P193, Seiko Men's SGG709 Titanium Watch, GGI International WTK-037 Metal Watch Repair Kit, Vilam Girl Kids' Translucent Cartoon Waterproof Quartz 3D Dial Watch Time Teacher Color Pink, ShoppeWatch Elegant Plane Style Digital Display LED Silicone Wrist Watch Black, Timex Men's Expedition Gallatin Watch, Timex Women's Easy Reader Date Expansion Band Watch, kate spade new york Women's 1YRU0510 Metro Grand Gold-Tone Stainless Steel Watch with Beige Leather Band, Casio Women's BG169G-4 Baby G Pink Champagne Watch, Braun Travel Alarm Clock - BNC-5, Swatch Golden Dial Golden Sparkle Silicone Ladies Watch SUOK704, Casio Women's STR300 Runner Eco Friendly Digital Watch, Ritche 22mm Black Stainless Steel Bracelet Watch Band Strap Pebble Time/Pebble Classic, Unisex Fashion Sport Watch Multifunction Multi-colour Led LAnalog Digital Waterproof Alarm Wristwatch, Mens Puma Wristwatch Essence PU103241001, Despicable Me 2 LCD Watch, Casio Men's GWX8900B-7 G-Shock Tough Solar Multi-Band Atomic Watch, Relic Payton - Gunmetal Bracelet Watch, Game Time Men's NFL-VET-OAK \"Veteran\" Watch - Oakland Raiders, Luminox Men's 3001.BO Quartz Rubber Black Dial Watch, Michael Kors Lexington Gold-Tone Stainless Steel Watch MK8281, Bulova Women's 98N101 Stainless Steel Watch, G-Shock GLX6900-1 Classic Series Quality Watch - Black, Caravelle by Bulova Men's 45D106 Classic Two Tone Watch, Swatch Glistar Silver Pearl Dial Transaprent Double Wrap) Strap Ladies Watch LK343, Timex Mens Expedition Trail Chronograph Resin Combo Watch, Disney Boys' Jake Blue Time Teacher Watch, U.S. Polo Assn. Sport Men's US9486 Analog-Digital Display Analog Quartz Blue Watch, Sankuwen 1pc Unisex White Sports Silicone Digital LED Sports Bracelet Wrist Watch, Swiss Legend Men's 10013-11-GB World Timer Collection Chronograph Two-Tone Stainless Steel Watch, Seiko Men's SNA411 Flight Alarm Chronograph Watch, Casio Men's Solar Sport Combination Watch, PromiseU Woman's Charming Vintage Weave Wrap Leather Chain Bracelet Watch, Bulova Women's 96R122 Diamond Accented Automatic Watch, Game Time Women's NFL Frost Series Watch, Geneva Women's 2380-Silver-GEN Oversized Interlocked Chain Band Watch, Seiko Men's SNDC33 Classic Black Leather Black Chronograph Dial Watch, G-Shock Unisex Atomic Solar GWA1100 Orange Watch, S&W Men's Ego Watch Black., Lucien Piccard Men's 12011-RG-09 Monte Viso Chronograph Rose-Gold Tone Textured Dial Leather Band Watch, ShoppeWatch Skeleton Pocket Watch Mechanical Movement Hand Wind Full Hunter Silver Tone Engravable PW20, Kenneth Cole New York Men's KC1931 Classic Light Grey Dial Field Case Watch, Invicta Men's Reserve Super Lum Diver 5050E Chrono 1022, Timex Men's Easy Reader Day-Date Expansion Band Watch, Casio Men's CA53W-1 Calculator Watch, Invicta Men's 1402 Venom Reserve Chronograph Orange Dial Orange Polyurethane Watch, Hamilton Men's 'American Classic Spirit Of Liberty' Swiss Automatic Stainless Steel Casual Watch, Color:Brown (Model: H42415551), Geneva Multi-strand Crystal Bling Wrap-around Watch-Black Gold, PromiseU Leather Bracelet Woman Rhinestone Rivet Chain Quartz Wrist Watch, U.S. Polo Assn. Sport Men's US8170 Black and Gunmetal-Tone Bracelet Watch, Seiko Solar Chronograph Black Dial Stainless Steel Mens Watch SSC215 by Seiko Watches, Speidel (Accessories) Men's 230161WR 18 -mm  Classic Watch Strap, (5) CR1130 Lithium Coin Cell Batteries, MARATHON Military Nylon Watch Band (Various Colors and Sizes), Timex Mens Expedition Trail Chronograph Resin Combo Watch, 32mm,, Smooth Black Leather, Medium Padding for your Sporty Watch, Invicta Men's 10091 Subaqua Reserve Black Carbon Fiber Dial Watch, Casio Men's W-S220-1BVCF \"Tough Solar\" Running Watch with Black Resin Band, [LAD WEATHER] German Sensor Digital Compass Altimeter / Barometer/ Weather Forecast/ Multi function/ Outdoor Climbing/running/walking Sport Watch, Seiko Men's SNK807 Seiko 5 Automatic Stainless Steel Watch with Blue Canvas Band, Timex Unisex Weekender Analog Quartz Watch, Seiko 5 Men's SNK793 Automatic Stainless Steel Watch with Blue Dial, Timex Easy Reader Day-Date Leather Strap Watch, Casio G-Shock Atomic Solar Watch, Orient Men's CEM65005D 'Blue Mako' Automatic Dive Watch With Black Rubber Band, Geneva Women's Brushed Metal Leather Band watch, Watch Band Silicone Rubber Heavy Orange Strap Waterproof Stainless Buckle 22 millimeters, Nautica Men's N12643G NSR 103 Classic Analog Watch, Timex Men's T5H581 Ironman Traditional 30-Lap Watch, Tissot Men's T063.617.11.067.00 Charcoal Stainless Steel Bracelet Watch with Black Dial, PromiseU Leather Bracelet Woman Rhinestone Rivet Chain Quartz Wrist Watch, Stuhrling Original Men's 879.01 Leisure Sniper Transparent Swiss Quartz Black Rubber Strap Watch, XOXO Women's XO5571 Silver-Tone Watch with Mesh Strap, TAG Heuer Men's THWAK2120BB0835 Aqua Racer Analog Display Swiss Automatic Two Tone Watch, Invicta Men's 17266 Russian Diver Gold-Tone Stainless Steel Watch with Black Silicone Band, AVI-8 Men's AV-4033-03 Supermarine Seafire Analog Display Japanese Quartz Black Watch, Anne Klein Women's AK/1814WTGB Glitter Accented Gold-Tone and White Ceramic Bracelet Watch, Invicta Men's 17887 Pro Diver Blue-Accented and 18k Gold Ion-Plated Stainless Steel Watch, Men's Casio G-Shock Gravitymaster Compass Black Watch, FASH Limited 42 pcs Premium Watch Set with Interchangeable Bands & False Nails, Michael Kors Mid-Size Rose Goldtone/Stainless Steel Parker Three-Hand Glitz Watch, 40Nine Unisex 40NINE03/BLACK3 Medium 40mm Analog Display Japanese Quartz Black Watch, New Geneva Lime w/ White Silicone Watch, Gucci Stainless Steel WYNC Watch(Model:YA137104), Watch Case Closer Opener works w/ waterproof watches Pocket crab tool case backs, Invicta 15044 Mens Pro Diver Scuba Special Edition 1.0 Bracelet Watch [Watch], Seiko Women's SUT130 Solar-Power Gold-Tone Bracelet Watch, Casio Men's W735H-8AVCF Super Illuminator Black Watch, Tissot Men's T0444172103100 T-Sport PRS516 Quartz Silver Chronograph Dial Watch, Tendence 02013012 Rainbow Yellow 44mm Watch, U.S. Polo Assn. Women's USC40061 Two-Tone Watch, Forté 24 Hour Quartz Black Dial Unisex Watch 1039M24-KKC -- with Real 24-hour Movement, Casio Men's Dive Style Watch, Fafada Mens Retro Mechanical Skeleton Roman Numeral Manual Wind Antique Zodiac Symbol Pocket Watch, CASIO F91W-1 Casual Sport Watch, Fanmis Bluetooth Smart Watch Wrist Wrap Watch Phone for IOS Apple Iphone 4/4s/5/5c/5s Android Samsung S2/s3/s4/note 2/note 3 HTC Nokia... (Black), Casio #10096986 Genuine Factory Replacement G Shock Band GW300, GW301, GW330A, Casio Kids W-214HC-1AVCF Classic Digital Display Quartz Black Watch, PASNEW HighQuality PASNEW Water-proof Children Girls Sport Watch N1 (Purple), Panasonic CTL1616 Solar Rechargeable CTL 1616 Battery Replacement Watch Cells Casio, LEGO DC Comics Super Heroes Batman Kids Minifigure Link Buildable Watch | black/yellow | plastic | 28mm case diameter| analog quartz | boy girl | official, Readeel Military Sports Watches Men's Quartz Digital Dual-display Multi-function Stainless Steel Mens Watches White, New Geneva Silver Metal Loop Style Band Oval Face Women's Bangle Cuff Watch, TOPSTARONLINE Fashion Colorful Unisex 8 Digit Alarm Calculator Watch Sky-blue, Timex Women's Easy Reader Leather Strap Watch, Casio Kids W-214HC-1AVCF Classic Digital Display Quartz Black Watch, Anne Klein Women's AK/1046CHCV Swarovski Crystal Accented Watch, 20mm Long Black Rubber Watch Band -- Comfortable and Durable PVC Material, Michael Kors Cooper Gold-Tone Stainless Steel Chronograph Women's watch #MK5916, Invicta Men's 16644 BLU Analog Display Japanese Quartz Yellow Watch, Timex Expedition Uplander Watch, Kenneth Cole New York Women's KC4852 Transparency Stainless Steel Watch, Tommy Hilfiger  Men's 1790806 Sport Grey Silicon and Stainless Steel Watch, August Steiner Men's CN001S-AS Round Wheat Penny Antique Copper Collectors Coin Watch, Casio MQ-24-1BLCK Mq24-1b 3-hand Analog Water Resistant Watch, Casio Men's AQ160WD-1BV Stainless Steel Ana-Digi Electro-Luminescent Sport Watch, iStrap Genuine Calf Leather Watch Band Alligator Grain Padded for Men Women Color & Width (18mm,19mm, 20mm,21mm,22mm or 24mm), Skagen Women's SKW2136 Gitte Quartz Two-Hand Stainless Steel White Watch, Timex 1440 Digital Sports Watch - Women's, KS Automatic Mechanical Date Day Big Case Sport Wrist Watch Gift KS083, Watch Box for 10 Wood Finish XL Extra Large Compartments Fits 63mm Soft Cushions Clearance Glass Window, G-Shock MTGM900DA-8CR Men's Tough Solar Atomic Stainless Steel Sport Watch, Relic Round Automatic, Casio Men's GA-400-1AJF G-Shock Hyper Colors Series Wrist Watch [Japan Import], Casio Women's LA670WA-7 Silver Tone Digital Retro Watch, Armitron Men's 20/4962BLSV Blue Sunray Dial Silver-Tone Bracelet Watch, U.S. Polo Assn. Classic His and Her USC2249 Round Black Dial Gunmetal-Tone Mesh Strap Watch Set, Megir Men Matte Leather Luminous Chronograph Automatic Mechanical Wrist Watches, Armitron Sport Men's 40/8252BLK Black Digital Chronograph Watch, Debeer Replacement Watch Strap - Teju Lizard Grain - Black - Fits 38mm Apple Watch [Silver Adapters], Timex Expedition Double Shock Watch, Casio A159WGEA-1EF Casio Gold Classic Collection, Casio Women's BG169R-7B Baby-G Clear Whale Digital Sport Watch, U.S. Polo Assn. Women's USC40065 Gold-Tone and White Bracelet Watch, Tissot Men's T0444302104100 PRS 516 Blue Dial Stainless Steel Watch, Invicta Men's 8926OB Pro Diver Stainless Steel Automatic Watch with Link Bracelet, U.S. Polo Assn. Sport Men's US9061 Watch with Black Rubber Strap Watch, Invicta Men's 13870 Pro Diver Silver Dial Stainless Steel Watch, Hot Sell New Fashion Diamond Dial 3 Small Dial Decoration Womens / Ladies Wrist Watch (Gold), Casio Men's PRW-3500-1CR Atomic Resin Digital Watch, Ballistic NATO Two Piece Nylon Canvas 20mm Military Black Replacement Watch Band, Seiko Men's SNQ117 Premier Stainless-Steel Black Roman Numeral Dial Watch, BRAND NEW BLACK 4+6 AUTOMATIC QUAD WATCH WINDER 6 DISPLAY STORAGE BOX CASE, 40Nine Men's 40NINE01/BLACK/Y Extra Large 50mm Analog Display Japanese Quartz Black Watch, 2015 Hot Sell Lady Belt Watch for Summer+birthday, Nine West Goldtone Bangle Watch, Tommy Hilfiger Men's 1710281 Classic Black Croco Embossed Strap Watch, Timex Expedition Camper Watch, Nollimet 7PCS Geneva Alloy Silicon Quartz Simple Elegant Fashion Watches Assorted Color Wristwatch, Swatch Unisex SUOK703 Pink Glistar Watch with Sparkling Band, Burgi Women's BUR069TTG Analog Display Swiss Quartz Two Tone Watch, FACILLA® 22mm Durable Silver Steel Watch Band Strap Pin Buckle Adjustable, Seiko Men's SNZH53 Seiko 5 Automatic Dark Blue Dial Stainless Steel Watch, Anne Klein Women's 10/9918RGTP Rose Gold-Tone and Taupe Leather Strap Watch, Lorus Ladies Watch Black Dial Silver Tone, Anne Klein Women's AK/1610BKRG Diamond-Accented Rose Gold-Tone and Black Ceramic Bracelet Watch, Square Triple Chain Wrap Watch-Eggplant Purple, Burgi Women's BUR112YGW Crystal Accented Yellow Gold Quartz Watch with Silver Dial and Silver Bracelet, Invicta Men's 0765 II Collection Silver Dial Brown Leather Watch, Swiss Legend Men's 20028-02S-BBL Planetimer Silver Textured Dial Watch, Timex Men's South Street Sport Watch, Replacement Black Polyurethane Link Bracelet Band 22mm for Luminox 3000 and 3900 Series Watches, Gold Tone White Crystals Hip-hop Cz-ice Bling Black Rubber Watch, Outop Fashion Women Analog Quartz Business Wrist Watch, Anne Klein Women's AK/2030RGTP Rose Gold-Tone Watch With Grey Leather Band, DREAMUS®HOT!!! U8 Bluetooth Smart Wristband Watch Phone for Android Samsung S2/S3/S4/S5/Note 2/Note 3 HTC...(IOS System and Blackberry System Can Use Partial Function), Tissot T-Classic Luxury Automatic Ladies Watch T0862071626100, MARATHON Military Nylon Watch Band (Various Colors and Sizes), Casio Baby-g Big Size Dual Illuminator Limited Edition Watch Bgd140-1bdr, PUMA Men's PU100041003 Motor Sport Collection Top Podium Ana-digit Watch, CASIO G-SHOCK GA-400-1BJF JAPAN IMPORT, Casio Women's LTP1237D-7A Analog Quartz Silver Watch, New Silicone Rubber Watch Band Strap for Invicta Subaqua Noma, Timex Men's T2N614 Intelligent Quartz Traveller Series World Time  Black IP Stainless Steel Bracelet Watch, HACBIWA Classic Golden Bracelet Men Stainless Steal Wrist Watches Big Dial Watches, Fossil Sport Cuff, Swiss Legend Men's 11876A-TI-01-W Commander Analog Display Swiss Automatic Black Watch, Neff Men's NF0204-pink Old School Digital Design Soft PU Strap Watch, JewelryWe Christmas Gift Vintage Retro Owl Bronze Steampunk Locket Pocket Watch Pendant Long Chain 31.5 Inch, U.S. Polo Assn. Classic His and Her USC2250 Silver-Tone Mesh Strap Watch Set, Casio Baby-G BA-110-8A Silver Watch, G-Shock G9000MS-1CR Men's Military Black Resin Sport Watch, Readeel Sports Men Watch Stainless Steel Quartz Men Watch LED Dual Display Watch, Red, Invicta Men's 11290 Pro Diver Chronograph Black Carbon Fiber Dial Black Stainless Steel Watch, Native American Indian Pocket Watch & Chain, Armani Exchange AX1214 Mens Black Silver Zulu Chronograph Active Watch, Women's Real Diamond Watch with Iced Out Dial and Metal Band Luxurman Montana Plus 2 Leather Straps, Caravelle by Bulova Women's 45M03 Expansion Bracelet White Dial Watch, LCD Digital Watches, Boyes Watches, Colorful Light Sports Watches, Water-proof Military Stealth Fighter Style Wrist Watches White, YouYouPifa Red+Yellow+Green+Blue LED Light Stainless Steel Fashion Wrist Watch, Bessky® Waterproof Outdoor Sports Men Digital LED Quartz Alarm Wrist Watch, Columbia Men's CT004 Singletrak Digital Display Quartz Watch, Extra Long Watch Band Genuine Leather Calfskin Light Brown 22 millimeters Tech Swiss, Stuhrling Original Men's 824.01 Regatta Analog Japanese Quartz Stainless Steel Watch, Caddy Bay Collection Black Carbon Fiber Glass Top Watch Case Holds 10 Large Watches, Skagen 358srrd Rose Gold Ion Plated Stainless Steel Mesh Bracelet Watch Watch For Women, Nixon Rubber 51-30 Watch, Stuhrling Original Mens 22mm honey leather watch Strap with yellow tone buckle st.165B2.3335K31, Tommy Hilfiger Women's 1781122 Sport Stainless Steel White silicone Watch, U.S. Polo Assn. Women's USC40070 Rose Gold-Tone Watch with Link Bracelet, Kenneth Cole New York Men's KC9286 \"Rock Out\" Stainless Steel Diamond-Accented Watch, Mokingtop® New Fahsion Children Boy Digital LED Quartz Alarm Date Waterproof Sports Wrist Watch, U.S. Polo Assn. Classic Men's US4023 Watch with Black Leather Band, Anne Klein Two-Tone Illusion Dress Watch, Men's Watches Chronograph, 24 Hr Indicator Military Sports Watches - Voeons 3ATM Waterproof Steel Case Quartz Watches, Big Dial Silicone Wrist Watch, Gold / Silver, Mens Rubbertech Silicone Rubber Watchband Stainless Steel Buckle 22mm Wide Buckle - by JP Leatherworks, Armitron Sport Men's 408108BLK Chronograph Black Digital Watch, Armitron Sport Women's 45/7053 Digital Resin Strap Watch, Heiden Battery Powered Single Watch Winder, 19mm Brown/Black Pebbled Water Resistant Genuine Leather Fits Timex Expedition, Wenger Men's 0541.102 Terragraph Stainless Steel Watch with Brown Leather Band, 18mm Mens Braided Leather Brown Watch Band Speidel, Watch Case Press with Nylon Dies, JIUSKO Mens Analog Fashion Wrist Watch - Multifunction Quartz Chronograph Stopwatch - Sapphire - 24 Hour - Alarm - Brown Leather Strap - Blue Hands - Stainless Steel - 113L0107, Invicta Men's Pro Diver Japanese Automatic Watch, Kenneth Cole New York Men's KC1847 Stainless Steel Watch with Black Leather Band, G-Shock MTGM900DA-8CR Men's Tough Solar Atomic Stainless Steel Sport Watch, Invicta Women's 15274 Bolt Analog Display Swiss Quartz Two Tone Watch, GUESS Men's U0279G1 Dressy Silver-Tone Watch with Black Dial  and Mesh Deployment Buckle, 7 Weapons Fashion Creative LED Waterproof Men's Watch#black, Invicta Men's 1433 Russian Diver Black Dial Rubber Watch, Vernier Women's VNR11140 Dazzling Oversized Roman Numeral Watch, Expedition Chrono Alarm Timer Watch, Fossil Women's ES3818 Original Boyfriend Rose Gold-Tone Watch with Grey Leather Strap, Citizen Men's JY0050-55L Blue Angels Skyhawk A-T Titanium Eco-Drive Watch, Timex Women's T5J151 1440 Sports Digital Black/Pink Resin Strap Watch, Citizen Women's EW3140-51E Eco-Drive Stainless Steel Sport Watch, Invicta Women's 14731 Angel Analog Japanese-Quartz Two Tone Watch, Casio Men's Watches BGA-153M-4BER, Invicta Men's 9938 Pro Diver Collection Automatic Diver Watch, Skagen Men's SKW6068 \"Havene\" Silver-Tone Stainless Steel Watch with Mesh Band, Stuhrling Original Men's 699.01 Aviator Quartz Day and Date Watch With Black Leather Strap, Nautica Unisex N09908G Sport Ring Multifunction Stainless Steel Watch With Two Interchangable Bands, GuTe Old Fashion Mens Auto Mechanical Wristwatch White Dial Blue Hands Day Date 24hrs, Voguestrap TX51012BK Allstrap 16 mm Black Nylon Adjustable Sport Watch Band, Nine West Women's NW/1652BKBK Gold-Tone Case Easy To Read Dial Black Strap Watch, Stuhrling Original Men's 91D.334554 Enigma Automatic Mother of Pearl AM/PM Indicator Brown Watch, Timex Girls Time Machines Analog Elastic Fabric Strap Watch, Seiko Men's SKS401 Analog Display Japanese Quartz Silver Watch, U.S. Polo Assn. Sport Men's US9282 Silver-Tone Watch with White Silicone Band, Valletta Women's FMDCT501A Analog Display Quartz Gold Watch, Invicta Men's Subaqua 15616, Armitron Women's 75/2967BLU Diamond Accented Blue Dial Silver-Tone Bangle Watch, Invicta Men's 8928OB Pro Diver Gold Stainless Steel Two-Tone Automatic Watch, Casio Men's Slim Solar Multi-Function Analog-Digital Watch, Fossil Women's ES3622 Jesse Crystal-Accented Two-Tone Stainless Steel Watch, DaLuca Ballistic Nylon NATO Watch Strap - Black (PVD Buckle) : 22mm, Bling Jewelry Plated Classic Round CZ Ladies Watch, Timex 1440 Digital Sports Watch - Women's, Casio Women's BGA140-7BCR Baby-G Shock Resistant Analog Digital Watch, Michele Style White Baby Python Leather Watchband with Quick Release Pins, Casio Men's WV200DA-1A Multi-Task Gear Waveceptor Sports Watch, Seiko Men's SNK805 Seiko 5 Automatic Stainless Steel Watch with Green Canvas, LNI Fashion Stainless Steel Band Watch Mk, red line Mens RL-18101-014WH-GUN Watch, Geneva Women's 2380-Silver-GEN Oversized Interlocked Chain Band Watch, Skagen Men's Titanium Mesh Watch with Blue Accents, Geneva Platinum 9203 Women's Decorative Chronograph and Bezel Link Watch-SILVER, Timex Women's Q7B851 Padded Calfskin 14mm Brown Replacement Watchband, Casio Men's SGW100-1V Twin Sensor Digital Black Watch, Women's Geneva Chevron Style Leather Watch - Blue, Timex Expedition Rugged Metal Watch, Victorinox Swiss Army Men's 241340 Summit XLT Chrono Watch, M&c Women's | Classy Crystal Embedded Bangle Look Watch with Self-Adjustable Bracelet | FC0365, Game Time Men's NFL Beast Watch, Armitron Sport Men's 40/8177 Digital Chronograph Perforated Resin Strap Watch, Invicta Men's 15580 Subaqua Analog Display Swiss Quartz Black Watch, Stuhrling Original Men's 699.03 Aviator Quartz Day and Date Watch With Green Leather Band, Nixon Men's A105 Sentry 42mm Stainless Steel Leather Quartz Movement Watch, Pangaea Quad Automatic Watch Winder Q480 (Dark Walnut), Geneva Watch Peacock Feather Decor Watches Leather Quartz Watch for Women Lady Dress, Mudder Watch Band Strap Link Pin Remover Repair Tool Kit for Watchmakers with 3 Extra Pins, Vostok Amphibian Russian Automatic Divers Wrist Watch 100819 200m Auto Black, INFANTRY 22mm 5 Rings Military Watch Band Strong Fabric Nylon Strap 100M water resistant - black, Casio Men's G7900-1 G-Shock Rescue Digital Sport Black Resin Watch, Tissot Men's T063.617.16.057.00 Black Dial Tradition Watch, Orient Men's FER24004B0 Bambino Stainless Steel Automatic Watch with Black Leather Band, Invicta Women's 4720 II Collection Limited Edition Diamond Watch, Swatch Men's Irony YOS449 Silver Leather Swiss Quartz Watch, BOS Men's Automatic self-wind mechanical Pointer Skeleton Watch Black Dial Stainless Steel Band 9008, New Fashion GENEVA Rose Flower Watch for Women Quartz Dress Watch, Seiko Men's SSC305 Solar-Power Stainless Steel Bracelet Watch, Bessky® Women's Chronograph Silicone with Crystal Rhinestones Watch, Casio watch strap watchband textile Band black for G-303B AW-591MS DW-5600B, Juicy Couture Women's 1901169 J Couture Gold-Tone Watch, ToyWatch Jelly Watch JY03OR Orange Silicone Strap Plasteramic Case Date Display Interchangeable Strap, Invicta Men's 8935 Pro Diver Collection Two-Tone Stainless Steel Watch with Link Bracelet, G-Shock GW6900-1 Men's Tough Solar Black Resin Sport Watch, Seiko Men's SSC229 Sport Solar-Power Stainless Steel Bracelet Watch, Stuhrling Original Aquadiver Mens Dive Watch - Quartz Analog Waterproof Sports Watch - Blue Dial Date Display Swim Wrist Watch for Men - Luminous Waterproof Watch with Stainless Steel Bracelet 664.02, Invicta Men's 1432 Specialty Black Dial Rubber Watch, Akribos XXIV Men’s AK714BK “Ultimate” Black Multifunction Stainless Steel Watch with Mesh Bracelet, Invicta Men's 0069 \"Pro Diver Collection\" Stainless Steel Watch, U.S. Polo Assn. Sport Men's US9061 Watch with Black Rubber Strap Watch, Seiko Solar Alarm Chronograph Watch, TAG Heuer Men's CV201AH.BA0725 Carrera Analog Display Swiss Automatic Black Watch, Invicta Women's Mako Pro Diver Quartz 8942, Timex Ironman Sleek 50-Lap Sport Watch - Women's, Casio Men's WVA-M640D-1ACR Wave Ceptor Analog-Digital Stainless Steel Bracelet Watch, 22mm Military RAF Style Ballistic Nylon Watch Band - Olive, Casio Women's LQ139A-1E Classic Round Analog Watch, Genuine Synthetic Rubber Black \"Monster\" Diver 20mm Watch Strap by Seiko, Textured Silver Tone Turtle Pendant Hunter Case Key Ring Watch, Bulova Women's 98L153 Two-Tone Stainless Steel Bracelet Watch, Invicta Women's Mako Pro Diver Quartz 8942, Weave Classic Leather Band Black Paris Eiffel Tower Women Quartz Wrist Watch Black, Casio Men's Dive Style Watch, Timex Men's Expedition Field Chronograph Watch, Invicta Women's 8945 Pro Diver Collection Gold-Tone Watch, Mens Rubbertech Silicone Rubber Watchband Stainless Steel Buckle 22mm Wide Buckle - by JP Leatherworks, Betsey Johnson Women's BJ00501-28 Analog Display Quartz Rose Gold Watch, Mirror Men Lady LED Digital Sport Unisex Watch Gift,- Black Colors, Seiko Women's Silvertone Solar Watch, Timex Women's T5J151 1440 Sports Digital Black/Pink Resin Strap Watch, SE JT6216 21-Piece Watch Repair Kit, Timex Unisex T2N751 \"Weekender\" Watch with Red Nylon Strap, Timex Unisex Weekender Analog Quartz Watch, DC Comics Batman Kids' BAT4177 Digital Display Quartz Multi-Color Watch, Bling Jewelry Plated Classic Round CZ Ladies Watch, Stuhrling Original men's 23mm black leather Strap with red stitching red outline with steel buckle st.4ATC.332B164, Torgoen Swiss Men's T28104 T28 3 Stainless Steel Watch with Leather Band, LEGO Star Wars Stormtrooper Figurine Alarm Clock (9002137), Casio Genuine Replacement Strap for G Shock Watch Model - GW-530 GW-500, Bling Jewelry Plated Classic Round CZ Ladies Watch, Timex Ironman Sleek 50 Classic Mid-Size Watch, Silver Geneva Crystal Rhinestone Chronograph Watch with Metal Link Band, Timex Unisex T2P235 Weekender Maroon Nylon Slip-Thru Strap Watch, Timex Women's T2P2589J Crystal Silver-Tone Stainless Steel Bracelet Watch, Nautica Men's N18720G NST 402 Gray Leather Chronograph Watch, Citizen Quartz Day and Date Black Dial Men's Watch - BK4052-59F, Timex Men's T28071 Easy Reader Black Leather Strap Watch, Mokingtop(TM) Fashion New Waterproof Girl's Sports Waterproof LED Electronic Wrist Watch, Casio Men's AWGM100B-1ACR \"G-Shock\" Solar Watch, Vogue V6 3D Surface Thick Case Strips Hour Marks Black Hours Analog Military Man Men Business Watch, Casio Men's DW290-1V \"Classic\" Sport Watch, Daniel David Men's | Classic Silver-Tone Bracelet Sports Watch | HA0474, Diesel Dz4297 Chronograph Black Textured Leather Strap Watch Watch For Men, Women Geneva Rhinestone Leather Band Quartz Wrist Watch, U.S. Polo Assn. Classic Men's USC80287 Analog Display Analog Quartz Two Tone Watch, Casio Men's W735H-1AVCF Super Illuminator Watch With Black Resin Band, Fossil Jacqueline, Watch Band Rubber Waterproof Strap Adjustable Stainless Steel Black 20 millimeter, Luminox Men's 3051 EVO Navy SEAL Colormark Watch, Citizen Men's CC1084-63E Satellite Wave Analog Display Japanese Quartz Silver Watch, 10 CR927 Lithium Button Cell batteries, 5-Pcs Card X2, Readeel® Stylish Red LED Light Silicone Jelly Sports Watch Black Band Men Wrist Watch, High Quality White Dial Brown Leather Band Japanese Quartz Movement Wrist Watch Graduation Gift, ANDROID Women's AD439BPU Paris Swiss Quartz Watch, Timex Women's Easy Reader Date Expansion Band Watch, ESS Black Bezel Skeleton Dial Mechanical Automatic Watch Mens Stainless Steel Case WM257, Nautica Men's N22634G NST 402 Analog Display Quartz Grey Watch, Citizen Eco-Drive Men's Goldtone Axiom Chronograph Watch, Casio Men's EFA131D-1A2V Silver Stainless-Steel Quartz Watch with Black Dial, Seiko Men's SSC009 Solar Chronograph Black Dial Flight Watch, Citizen Eco-Drive Men's Silvertone and Black World Time A-T Watch, Bulova Women's 98R149 \"Anabar\" Stainless Steel Watch, Caravelle New York Women's 44L153 Stainless Steel Watch with Blue Leather Band, Daniel David Women's | Two Tone Silver & Gold Self-Adjustable Links Watch | HA0328, Casio Men's AQS800WD-1EV Slim Solar Multi-Function Analog-Digital Watch, Nurse Mates - Womens - Chrome Basic Military Dial, Vilam Girl Kids' Translucent Cartoon Waterproof Quartz 3D Dial Watch Time Teacher Color Pink, Timex Ironman Sleek 50 Classic Mid-Size Watch, Luxury black 22mm Stainless Steel Watch Band strap Solid Links +Tool+spring bars, Timex Men's T26481 Elevated Classics Stainless Steel Two-Tone Watch, BESSKY Women's White Dial Clock Leather Quartz Wrist Watch, Zodiac ZMX Men's ZO8525 Special Ops Stainless Steel Watch With Gray Rubber Band, Invicta Men's 15146 Pro Diver 18k Gold Ion-Plated Stainless Steel Watch with Black Silicone Band, Accessorize Ladies Butterfly Charm Gold Tone Bracelet Strap Dress Watch AZ4000, Bulova Men's 96A135 BVA-SERIES 120 Automatic strap Watch, Stuhrling Original Men's Aquadiver Dive Quartz Analog Waterproof Sports Blue Dial Wrist Watch Bracelet with Stainless Steel, Seiko Men's SSC317 Analog Display Analog Quartz Silver Watch, Casio G-shock Watch Military Color Series GA-100MC-2AJF Men, Casio Men's SGW100-1V Twin Sensor Digital Black Watch, Swiss Legend Men's 30721-YG-02S Skyline Analog Display Swiss Quartz Black Watch, Topwell® 5 Watches Cases Soft Cushions Clearance Window Wood Watch Display Case and Storage Organizer Box, Tommy Hilfiger Riverside White Silicone White Dial Women's Watch #1780915, Frenzy Kids' FR2001 \"Panda Critter Face\" Black Band Children's Watch, Vernier Women's VNR11096 Interchangeable Silicone Quartz Watch, Base Camp Chrono with Strap Watch, LEGO Watches Star Wars Luke Skywalker Kids Buildable Watch with Link Bracelet, August Steiner Men's ASA810BU Stainless Steel Dual Time Watch, Transformers Kids' TRF0007 Bumblebee Autobots Watch, Armitron Sport Men's 40/8284 Digital Chronograph Resin Strap Watch, Fjord Women's Alida FJ-6017-55 White Ceramic Quartz Watch, Invicta Men's 11169 Reserve Analog Display Swiss Quartz Black Watch, Casio Men's Sport Analog Dive Watch, PUMA Men's PU102941001 Ultrasize Analog Display Left-Handed Black/White Sport Watch, Casio G-shock Black and Green Standard Japanese Model #G8900-1, GUESS Women's U0559L1 Sporty Silver-Tone Stainless Steel Watch with Multi-function Dial and Pilot Buckle, U.S. Polo Assn. Sport Men's US9061 Watch with Black Rubber Strap Watch, SEIKO Mechanical Standard Models Automatic Mens Watch SARB033, Seiko Men's SNK809 Seiko 5 Automatic Stainless Steel Watch with Black Canvas Strap, Fanmis S-Shock Multi Function Digital LED Quartz Watch Water Resistant Electronic Sport Watches Black, Momentum Women's 1M-DV11WU1U M1 Twist Dive Watch, Men's White Decorative Chron Dial Brown Pu Leather Strap Quartz Movement Wrist Watch, LEGO Star Wars Darth Vader Kids Minifigure Light Up Alarm Clock | black/gray | plastic | 9.5 inches tall | LCD display | boy girl | official, Invicta Men's 14655SYB \"Pro Diver\" Stainless Steel Watch, Dainty New Genuine Abalone Gold Tone Stretch Band Fashion Watch, Susenstone® Fashion Luxury Women Ladies Diamond Quartz Gold Watch+bracelet, Timex Men's Easy Reader Day-Date Expansion Band Watch, Fossil Women's ES3718 Chelsey Crystal-Accented Stainless Steel Watch with Link Bracelet, Candy-colored Blue Geneva Silicone Colorful couple of style quartz watches, Voguestrap TX48312BK Allstrap 12mm Black Regular-Length Padded Genuine Calf Watchband, Invicta Men's 17046 Pro Diver Analog Display Japanese Quartz Silver Watch, TAG Heuer Men's WAY1110.BA0910 300 Aquaracer Stainless Steel Watch, Timex Men's T49799 Expedition Dive Style Stainless Steel Blue Dial Watch, Stuhrling Original Women's 579.04 Soiree Swarovski Crystal-Accented Rose Gold-Tone Watch, German Military Titanium Automatic Watch. GPW Date. 200M W/R. Sapphire Crystal. German BUND Leatherstrap, Mini Clock Quartz Movement Insert Round White Dial Gold Tone Bezel Roman Number, Michael Kors Watches Channing Watch (Silver), 2014 New Vintage Women Roma Digit Quartz Watch - Black, Ostri Ladies Star Series Waterproof Retro Watch Color Black, Invicta Men's 14497 Subaqua Chronograph Gold Textured Dial 18k Gold Ion-Plated Stainless Steel Watch, BINKADA 3 Pointer Automatic Mechanical Black Dial Women's Wrist Watch #7001W03-4, Invicta Men's 15951 Subaqua Analog Display Swiss Quartz Two Tone Watch, GuTe Classic Skeleton Mechanical Wristwatch Automatic Steel Watch Silver Black X Dial, Timex Men's Highland Street Watch, Stuhrling Original Men's 'Symphony' Swiss Quartz Stainless Steel and Leather Dress Watch, Color:Black (Model: 434.33151), Bling Jewelry Plated Classic Round CZ Ladies Watch, Replacement Black Polyurethane Link Bracelet Band 22mm for Luminox 3000 and 3900 Series Watches, Daniel Wellington Men's 0204DW Glasgow Stainless Steel Watch With Striped Nylon Band, Bling Jewelry Plated Classic Round CZ Ladies Watch, Kenneth Cole New York Men's KC9260 Dress Sport Rose Gold Bezel Men's Bracelet Watch, GGI International MLEDLAVABB 25 MM  Stainless Steel Black Watch Bracelet., Coromose® Luxury 22mm Stainless Steel Watch Band For LG G Smart Watch+Tool(black), INFANTRY 5 Rings Genuine Leather Black Brown Watch Strap Band Stainless Steel Buckle with 20mm 22mm 24mm, YouYouPifa Classy 4 Dial Stainless Steel Quartz Watch (Black), Lucien Piccard Men's LP-12356-YG-02S Mulhacen Chronograph White Textured Dial Brown Leather Watch, Swiss Army Black Leather Peak II Watch Strap, Casio Men's PAG240-8 Pathfinder Triple Sensor Tough Solar Digital Watch, Hadley Roma MB7288BL 16-22mm Black PVD Metal Expansion Watch Band, Invicta Men's 14071 Bolt Reserve Chronograph Silver Dial Black Polyurethane Watch, U.S. Polo Assn. Sport Men's US9057 Black Metal Watch with Orange Rubber Band, Swatch Women's LR127 Originals Analog Display Swiss Quartz Red Watch, Invicta Women's 17388 Pro Diver Analog Display Swiss Quartz Two Tone Watch, Youyoupifa Hot Design High End Double Movement Multi-Function Black Strap Sport Watch NBW0HE5756-SS3, Tissot Men's T0636371603700 Stainless Steel Watch With Brown Band, Vintage PU Leather Music Score Scale Women Girls Watch, Timex Men's T2M441 Easy Reader Brown Croco Patterned Leather Strap Watch, Nautica Men's Watch A09921G, Lowpricenice Magic Hidden Touch Screen Red LED Digital Watch Men Women Sport Cuff Wrist Watch Black, Vintage Hollow Roman Flower Alloy Black Men Women Pocket Watch DDStore, VINTAGE SILVER C RING HOOK END GENUINE DIAMOND STAINLESS STEEL EXPANSION BAND, Daniel Wellington Men's 0106DW St. Mawes Stainless Steel Watch with Brown Band, Chronicles of Narnia Kids' MC2090 Aslan Coat of Arms Watch, Freestyle Unisex 102245 Shark Fast Strap Retro 80's Watch with Multicolored Nylon Band, Debeer Replacement Watch Band - 2-Piece Nylon - Khaki - Fits 42mm Series 1 & 2 Apple Watch [Silver Adapters], Invicta Men's 8935 Pro Diver Collection Two-Tone Stainless Steel Watch with Link Bracelet, Invicta Men's 6409 Python Collection Chronograph Stainless Steel and Gun Metal Watch, Casio AQS810W-1A2V Solar Ana-Digi Sports Wrist Watch, Tech Swiss LEA333-20SS 20mm Leather Calfskin Blue Watch Strap, Casio Men's MQ24-1E Black Resin Watch, Shark Men's Sport Quartz Wrist Watch Black 3D Dial Oversized Crown Silicone SH171, U.S. Polo Assn. Sport Men's US9061 Watch with Black Rubber Strap Watch, Watch Band Genuine Leather 18mm Black Double Padded, Casio Men's F28W-1 \"Classic\" Digital Watch, Seiko Men's Black Dial Automatic Divers Watch, DETOMASO Men's Quartz Stainless Steel Casual Watch, Color:Black (Model: DT1052-M), Timex Unisex TW2P62400 Weekender Chrono Oversize Blue/Cream/Brown Striped Slip-Thru Nylon Strap Watch, Barron Watch Company Replacement Watch Band with 4 bars and remover, Stuhrling Original Men's 879.03 Leisure Sniper Transparent Swiss Quartz Black Rubber Strap Gunmetal Watch, Women's Geneva Silicone Band Jelly Gel Quartz Wrist Watch Pink, SODIAL(R) Alloy Case Bracelet Black Dial Modern Silver Fashion Women Quartz Watches, Coromose® Luxury 22mm Stainless Steel Watch Band For LG G Smart Watch+Tool(black), Michael Kors Collection Men's MK8386 - Accelerator Other Platings, Caravelle By Bulova 47J18 Stainless Steel Nurses Lapel Pin Watch, Casio G-Shock GA-400-4A Multi-Dimensional Analog Digital Watch, Lorus RXT67CX9 Urban Two-tone Stainless Steel Watch, Retro World Map Womens Quartz Wrist Watch Brown, XOXO Women's XO8041 Rhinestone Accent Black Silicone Strap Watch, Casio Men's PRG550-1A1CR Pro Trek Triple Sensor Tough Solar Analog-Digital Watch, Stuhrling Original Women's 910.01 Symphony Calliope Analog Display Quartz Silver Watch, Tmbr. Helm Gold Walnut Wood Unisex Wooden Watch Leather Strap Quartz Analog Wristwatch, Invicta Men's 0074 pro Diver Analog Japanese Quartz 18k Gold-plated Stainless Steel Watch, Casio Men's WV200DA-1A Multi-Task Gear Waveceptor Sports Watch, Fossil Women's ES3818 Original Boyfriend Rose Gold-Tone Watch with Grey Leather Strap, Frederique Constant Slimline Men's FC-245M4S5 Designer Stainless Steel Plated Yellow Gold Watch With Brown Leather Band, Seiko Men's SNDC31 Classic Stainless Steel Chronograph Watch with Brown Leather Band, Atomic Talking Watch, Salvatore Ferragamo Men's F55LCQ75909 S113 F-80 Rose Gold-Plated Watch, Caddy Bay Collection Carbon Fiber Pattern Watch Case Box Holds 5 Watches with Red Stripe/Stitching NEW AND IMPROVED, [LAD WEATHER] German Sensor Digital Compass Altimeter / Barometer/ Weather Forecast/ Multi function/ Outdoor Climbing/running/walking Sport Watch, GGI Metal Watch Repair Kit - Pack of 2, Mokingtop Fashion New 22mm Brown Soft Sweatband Genuine Leather Strap Steel Buckle Wrist Watch Band, Seiko Bedside Alarm Clock Silver-Tone Metallic Case, Invicta Men's 5699 II Collection Two-Tone Chronograph Watch, Swiss Legend Men's 21344-22 Luminous Stainless Steel Watch with Link Bracelet, Seiko Men's SPL035 Criteria Stainless Steel Chronograph Grey Dial Watch, Jechin Classic Pocket Watch, Hunter Case, 14'' Chain, Comes in Silk-Lined Gift Box, Fanmis Russian Skeleton Black Dial Silver Stainless Steel Luxury Men's Automatic Mechancial Wrist Watch, Rhino by Marc Ecko Men's E8M055MV Stone on Metal Three-Eye Chronograph Watch, Timex Unisex Weekender Analog Quartz Watch, Timex Men's Expedition Field Chronograph Watch, Thomas Earnshaw Men's ES-8009-01 Robinson Analog Display Automatic Self Wind Black Watch, Bulova Men's 96C113 Stainless Steel Watch with Black Leather Strap, Invicta Men's 15942 \"Specialty\" 18k Gold Ion-Plated Stainless Steel Bracelet Watch, Batman Kids' BAT4045 \"Batman\" Watch with Black Rubber Band, Michael Kors MK3265 Women's Slim Runway Gold-Tone Stainless Steel Bracelet Watch, Earth Wood Rhizomes, MEKU Men's Wooden Watches Natural Sandalwood Day Date Calendar Watches Gifts, Soleasy Women's Bracelet Style Analog Quartz Metal Watch WTH8022, Nixon The Unit Digital Dial Stainless Steel Quartz Men's Watch A360-502, Night Vision INFANTRY Mens Military Army Sport Luxury Chronograph Quartz Wrist Watch Rubber / Leather Straps #FS-001-S-D-SET, Swiss Legend Men's 10013-11-GB World Timer Collection Chronograph Two-Tone Stainless Steel Watch, Armitron Sport Men's 49mm Digital Chronograph Black Strap Watch, Casio Men's W96H-1AV Sport Watch with Black Band, Lucien Piccard Men's LP-12356-RG-11 Mulhacen Analog Display Japanese Quartz Rose Gold Watch, Michael Kors Watches Parker Watch, Timex Women's T5J151 1440 Sports Digital Black/Pink Resin Strap Watch, Peugeot Women's Silver-tone Tank Leather Dress Watch, Akribos XXIV Women's AK759SSTQ Swiss Quartz Movement Watch with Blue Sunburst Effect Dial and Silver Twist Chain Bracelet, Akribos XXIV Men's AK622SS Grandiose Stainless Steel Bracelet Watch, Style Trend Kids Watches Cute Flash Lights 50m Waterproof Chronograph Digital Sports Watch - Blue Color, Oakley Men's 10-032 Analog Watch, Timex Men's T2N635 Weekender Classic Casual Cream Dial Bracelet Watch, Nine West Pink Textured Bracelet Watch, Nautica Men's N14675G NST 700 Stainless Steel Watch with Black Resin Band, Invicta Women's 17490 Angel Analog Display Japanese Quartz Two Tone Watch, Irish Sixpence Coin Watch Pair of Cufflinks (2 Watches), Casio Men's Black Analog Anti Reverse Bezel Watch, Glam Rock Men's GR33008 SoBe Black Dial Black Ion-Plated Stainless Steel Watch, Gevril Columbus Circle Mens Swiss Automatic Black Leather Strap Watch, (Model: 2004), Wrist And Style Perlon Watch Strap - Light Brown | 20mm, OrangeTag New Flower Face Style Leather Woman Man Analog Quartz Wrist Wa..., NEW BURL WOOD 2+3 AUTOMATIC DUAL / DOUBLE WATCH WINDER + 3 DISPLAY STORAGE BOX BATTERY OR AC/DC POWER, Carrie Hughes Ladies Fashion Small Flower Steampunk Alloy Stainless steel Necklaces Pendants Pocket Watch, August Steiner Women's AS8137TTR Rose Gold And Silver Swiss Quartz Watch with Silver Mother of Pearl Dial and Crystal Accented Rose Gold & Silver Bracelet, Invicta Men's 1941 Subaqua Sport Chronograph Blue Dial 18k Gold Ion-Plated Stainless Steel Watch, red line Men's RL-50046-22RD-GYST Torque Sport Silver Dial Grey Silicone Automatic Watch, Bestpriceam Women Silicone Printed Flower Causal Quartz Wrist Watches Pink, Casio 16/25mm Black Resin, Casio Men's PRW-3000-2CR \"Protrek\" Sport Watch with Black Resin Band, Casio Men's MCW-100H-1AVCF Heavy Duty Design Watch with Black Silicone Band Watch, Seiko Tiber Wall Clock, Shensee Simple Vogue Men Casual Waterproof Date Leather Military Watch Gift Black Gold, Casio Men's AW80D-7A Sports Chronograph Alarm 10-Year Battery Databank Watch, Fossil Womens Jacqueline - ES3866, Timex Women's Indiglo Easy Reader Quartz Analog Leather Strap Watch with Date Feature, Casio W213 Digital Multi-Function Sports Watch w/ 10 Year Battery Life, Invicta Men's 1434 Russian Diver Blue Dial Stainless Steel Watch, Casio Men's AMW320D-9EV Ana-Digi Alarm Chronograph Dive Watch, Fossil Riley\n",
            "\n",
            "Cluster 2 words:great,watch,looks,price,work,comfortable,\n",
            "Cluster 2 reviews (99 reviews): \n",
            "Fossil Women's ES3851 Urban Traveler Multifunction Stainless Steel Watch - Rose, G-Shock Men's Grey Sport Watch, HDE Watch Link Pin Remover Band Strap Repair Tool Kit for Watchmakers with Pack of 3 Extra Pins, August Steiner Men's AS8160TTG Silver And Gold Swiss Quartz Watch with Black Dial and Two Tone Bracelet, Lucien Piccard Men's 11577-RG-02S Stockhorn Silver Textured Dial Brown Leather Watch, Timex Ironman Sleek 50-Lap Full Size, Seiko Men's SNKL43 \"Seiko 5\" Stainless Steel Automatic Watch, Hadley-Roma Men's MSM881RB-170 17-mm Brown Oil-Tan Leather Watch Strap, Michael Kors Petite Silvertone Darci Watch, Ceramic Bezel Insert for Rolex Sea-dweller Deep Sea, Fossil Fossil Ladies Multi-Function White Ceramic Watch, Casio GD110-2CR 55mm Blue Plastic Band & Case Men's Watch, Casio G-Shock Digital Dial Resin Quartz Men's Watch DW6900WW-7, Game Time Men's NFL Beast Watch, Tommy Hilfiger Men's 1710330 Stainless Steel Watch with Black Genuine Leather Band, Ostri Ladies Star Series Waterproof Retro Watch Color Black, G-SHOCK Men's GA-100 Limited Edition Watch, 6900 Military Watch - Mens, Burberry The City Champagne Dial Haymarket Check Strap Unisex Watch BU9026, Paylak UNIKEY-1E Even Sizes 5 Prong Universal Clock Key for Winding Clocks, Invicta Men's 18037SYB Pro Diver Gunmetal Ion-Plated Stainless Steel Watch, CASIO F91W-1 Casual Sport Watch, Invicta Men's 9204 Pro Diver Collection Silver-Tone Watch, Watch Box Carbon Fiber Finish Wood Constructed 5 Large Compartments High Clearance Glass Window, Citizen Men's CA4170-51E Shadowhawk Eco-Drive Stainless Steel Bracelet Watch, Casio Men's AW80V-5BV, Timex Men's Expedition Field Chronograph Watch, Casio Men's W756-1AVCR Sport Watch, Original Casio Capacitor Battery CTL1616, Casio Men's GA100SD-8A G-Shock Military Watch, Skagen Women's SKW2142 Gitte Rose Gold Mesh Watch, Men's Gold-Tone Casio World Time Stainless Steel Watch A500WGA-1, Kenneth Cole New York Men's KC1995 Classic Grey Dial Rose Gold Details Analog Watch, Oulm Analog Dark Brown Leather Strap Four Sub-dials Men Watch, Casio Men's STB-1000-1CF OmniSync Sports Gear Bluetooth Fitness Smartwatch, Tommy Hilfiger Men's 1791061 Analog Display Quartz Silver Watch, ESS Men's Stainless Steel Case White Dial Amber Front Antique Pocket Watch with Chain WP013-ESS, Timex Men's Expedition Field Chronograph Watch, adidas Performance Fitness Watch, Peugeot Rectangle Deco Crystal Bezel Bracelet Dress Watch, Versus Tokyo R Mens Watch Black, Invicta Men's 8928OB Pro Diver Gold Stainless Steel Two-Tone Automatic Watch, Invicta Men's 17794 Pro Diver Analog Display Quartz Grey Watch, Bestpriceam® New Butterfly Diamond Watch Gold Dial Leather Band Quartz Wrist Watch Purple, Casio Men's VA430TDA-1A3V Waveceptor Titanium Atomic Solar Watch, Invicta Men's 16992 Venom Analog Display Swiss Quartz Black Watch, Timex Unisex T2N889 \"Weekender\" Black and Gray Nylon Strap Watch, DASSARI Monaco Smooth Leather Watch Band for panerai, DETOMASO Men's Quartz Stainless Steel and Leather Casual Watch, Color:Black (Model: DT1068-A), 2 Pack White and Black Geneva Women's Large Round Face Silicone Rainbow Numbers Watch, Tommy Hilfiger  Men's 1710294 Stainless Steel Watch with Brown Leather Band, U.S. Polo Assn. Classic Men's USC50233 Analog Display Analog Quartz Brown Watch, Tommy Hilfiger Men's 1790877 Silver-Tone Stainless Steel Watch, Nixon Men's 51-30 Chronograph Stainless Steel Watch With Leather Band, G-Shock GA100A-7A Classic Series Designer Watches - White, GEN Bamboo LeGENd Men's Wooden Bamboo Watch in Black with Genuine Leather Strap (Japanese Quartz), Seiko Men's SKX007K Diver's Automatic Watch, Festina Women's F16580/3 Brown Leather Quartz Watch with Brown Dial, G-SHOCK The GA 100 Military Series Watch in Black,Watches for Men, Timex Fieldstone Way Watch, Freestyle Tide 3.0, Luminox Men's 3067 EVO Navy SEAL Colormark Watch, 22mm Military MoD Ballistic Nylon G10 Watch Band - Black with Grey & Orange stripes, [Upgrades]CHIYODA Single Watch Winder with Quiet Motor-12 Rotation Modes, Casio Men's A158WEA-9CF Casual Classic Digital Bracelet Watch, Dyn Mens Y27 Analog Digital Talking Watch, Readeel New Casual Watch Leather Black Strap Military Army Wrist Watch Man watch Date Week Display Watch Quartz Watch,White, G-Shock Men's Military GD-400 Watch, Black, One Size, Disney Unisex W001989 Mickey Mouse Analog Display Analog Quartz Black Watch, Freestyle Unisex 102282 Predator Blue Detail Digital Canvas  Velcro Watch, Casio Men's MTP1240D-2A Silver Stainless-Steel Quartz Watch with Blue Dial, Invicta Men's 18819 Subaqua Analog Display Swiss Quartz Silver Watch, Seiko Men's SNKM95 Stainless Steel Automatic Watch with Blue Canvas Band, Casio G-Shock Mens Watch G8900A-4D, Casio Women's LA-11WB-4UW Digital watch, SS.COM 1 x BLUE Slap On Quartz Silicone Sports Watch, Iced Out Watches LUXURMAN Real Diamond Watch for Men in Stainless Steel with Diamond Band 1.25ct, TKO ORLOGI Women's TK642TQ Floral Analog Display Quartz Multi-Color Watch, Casio Men's Dive Style Watch, Soleasy Women's Quartz Watch Fashionable Cross Style Diamante PU Band Analog Wrist Watch WTH0822, Nemesis #IN-BS Wide Brown Leather Cuff Wrist Watch Band, Casio Men's AW80V-5BV, Bluetooth Smart Watch Gold Case with SIM SLOT and Camera works with Android phones, Timex Women's T2P0959J Analog Display Beige Watch, Invicta Men's 19222 Specialty Analog Display Japanese Quartz Gold Watch, 22mm Military MoD Ballistic Nylon G10 Watch Band - Orange, Timex Unisex Weekender Analog Quartz Watch, G-Shock DW6900-1V Men's Black Resin Sport Watch, Invicta Men's 12404 Vintage Mechanical Blue Dial Black Leather Watch, Tommy Hilfiger Men's 1791062 Stainless Steel Watch with Blue Silicone Band, Timex Men's T2P0439J Analog Display Analog Quartz Black Watch, Casio Men's PAW1300T-7V \"Pathfinder\" Resin Watch, Skagen Men's SKW6019 Havene Stainless Steel Mesh Watch, Nixon 48-20 Chronograph White Dial Black Leather Mens Watch A363486, SE JT6216 21-Piece Watch Repair Kit, Stuhrling Original Men's 879.03 Leisure Sniper Transparent Swiss Quartz Black Rubber Strap Gunmetal Watch, Seiko Mantel Chime Clock Brown Wooden Case, Nixon Men's A058-100 Stainless Steel Analog with White Dial Watch, Mens Rubbertech Silicone Rubber Watchband Stainless Steel Buckle 22mm Wide Buckle - by JP Leatherworks\n",
            "\n",
            "Cluster 3 words:loved,watch,wife,husband,looks,beautiful,\n",
            "Cluster 3 reviews (102 reviews): \n",
            "Invicta Women's 15150 \"Angel\" 18k Yellow Gold Ion-Plated Stainless Steel and Brown Leather Watch, Kenneth Cole New York Women's KC4944 Automatic Silver Automatic Mesh Bracelet Analog Watch, Casio Men's GW-9400BJ-1JF G-Shock Master of G Rangeman Digital Solar Black Carbon Fiber Insert Watch, Domire Fashion Accessories Trial Order New Quartz Fashion Weave Wrap Around Leather Bracelet Lady Woman Butterfly Wrist Watch, Batman Kids' BAT4072 Black Rubber Batman Logo Strap Watch, Timex Easy Reader Day-Date Leather Strap Watch, Casio F108WH Water Resistant Digital Blue Resin Strap Watch, Stuhrling Original Women's 956.02 Symphony Gold-Tone Watch with Brown Genuine Leather Band, Seiko Men's SNKK27 Seiko 5 Stainless Steel Automatic Watch, Swiss Legend Women's 11044D-01 Neptune Black Dial Watch with Silicone Band, Michael Kors Womens MK5145 - Runway Chronograph, LEGO Star Wars Yoda Kids Buildable Watch with Link Bracelet and Minifigure | green/gray | plastic | 28mm case diameter| analog quartz | boy girl | official, Bling Jewelry Plated Classic Round CZ Ladies Watch, Fossil Women's ES3822 Georgia Stainless Steel Watch with Blue Leather Band, Stuhrling Original Men's 574.03 Analog Executive II Stainless Steel Automatic Skeleton Watch with Brown Leather Band, Nemesis #HST-K Unisex Black Wide Leather Cuff Wrist Watch Band, Unisex Fashion Sport Watch Multifunction Multi-colour Led LAnalog Digital Waterproof Alarm Wristwatch, Women Luxury Luminous Stainless Steel Roman Number Calendar Date Quartz Watches Gold, Seiko Men's SKA605 KINETIC \"Amazon Exclusive\" Black Ion-Plated Stainless Steel Watch, Armani Exchange Women's AX4321  Gold  Watch, Michael Kors Watches Runway Twist Watch (Two Tone Gold), Nine West Rose Goldtone and Blush Pink Strap Watch, Timex Womens 80’s Classic Digital Display Chronograph White Case Resin Strap Watch, Timex Unisex Weekender Analog Quartz Watch, 22mm NATO G10 Green Nylon Military Watch Band Strap, Ferrari Men's 0830105 Race Day Analog Display Quartz Black Watch, COCOTINA Brand New Lady Women Quartz Rhinestone Crystal Wrist Watch Rhombus gold surface, Casio Men's GW-9400-1CR Master of G Stainless Steel Solar Watch, Towallmark(TM)New Women Handmade Braided Zebra Bracelet Dial Quarzt Watch Wrist Watch Blue, Casio #LA670WGA-6 Women's Gold Tone Chronograph Alarm LCD Digital Watch, Casio Men's G-7900-2DR G-Shock Blue Resin Digital Dial Watch, Casio G-Shock GD-100-1B Watch, Timesshine Men's TSM1405 Sports & Outdoor Personalized Quartz Watch with Black Geniune Leather Band, Whimsical Watches Women's S0610004 Dentist Baby Light Blue Leather Watch, Michael Kors Women's Runway Black Watch MK5191, Timex 1440 Digital Sports Watch - Women's, Relic Women's ZR15750 Beth Rose Gold-Tone Bracelet Watch with Cobalt Blue Dial, Stuhrling Original Men's Aquadiver Dive Quartz Analog Waterproof Sports Blue Dial Wrist Watch Bracelet with Stainless Steel, Hamilton Men's H70555523 \"Khaki Field\" Stainless Steel Watch with Brown Leather Band, Daniel Wellington Men's 0107DW Classic Sheffield Watch with Black Band, Purple Paw Face Silicone Watch w/ CZ Crystal Rhinestones Face Bling, Kenneth Cole New York Men's KC8042 Dress Sport Round Chronograph Brown Strap Analog Watch, Nixon Cannon Watch, Bulova Women's 96R19 Diamond-Studded Chronograph Watch, Invicta Men's 9211 Speedway Collection Stainless Steel Chronograph Watch with Link Bracelet, NSSTAR Retro Vintage Classic Dragonfly Pendant Beads Girls Ladies Women Floral Quartz Fashion Weave Wrap Around Leather Strap Bracelet Wristband Wrist Watch (Brown), Flower Style Women Fashion Watch, White, Casio Ladies Mid-Size Silver Tone Digital Retro Watch LA-680WA-7DF, Casio Women's BG169R-4 Baby-G Pink Whale Digital Sport Watch, KS Men's Wrist Watch Luxury Moon Phase Automatic Mechanical White Dial KS069, August Steiner Women's AS8178YG Yellow Gold Quartz Watch with Gold Dial and Yellow Gold Bracelet, Mens Rectangle Dial Watch 14k Gold Plated 2 Time Zone Simulated Lab Diamonds New, Elini Barokas Women's 10197-BB-02S-WHT Artisan Watch, Casio Men's Sport Analog Dive Watch, Gotham Women's Gold-Tone Dual Time Zone Leather Strap Watch # GWC15091GW, Nixon Men's A105 Sentry 42mm Stainless Steel Leather Quartz Movement Watch, Disney Kids' FZN3580 Frozen Anna and Elsa Flashing-Dial Watch with Glitter Pink Rubber Band, Geneva Platinum Women's 6886.Lavender Purple Silicone Quartz Watch with Purple Dial, Sinceda Watch Gun Classic Roman Numerals Series Women's Bangle Wrist Watches, Rado Centrix Rose Gold-tone Ladies Watch R30555103, Disney's Frozen Elsa & Anna Singing Watch - Let it GO!, Citizen Men's AT2187-51E Drive from Citizen Eco-Drive WDR 3.0 Chronograph Watch, Casio BA112-1A Baby-G Multicolor Dial Black Resin Multi Quartz Woman's Watch, Tonsee Mens Silicone Rubber Watch Strap Band Waterproof with Deployment Clasp 22mm, Citizen Men's Drive from Citizen Eco-Drive AR 2.0 Stainless Steel Watch, [Upgrades]CHIYODA Single Watch Winder with Quiet Motor-12 Rotation Modes, KANO BAK Womens Ladies Retro Vintage Antique Bangle Bracelet Wrist Watch White Round Dial, Geneva Black and White Faux Rhinestones Chronograph Silicone Watch, Lacoste Goa Black, Yellow and Blue Silicone Unisex Watch 2020031, Swiss Army Men's Victorinox Watch 24984, Michael Kors Women's Parker Blue Watch MK2280, XOXO Women's XO5753 Silver-Tone Bracelet Watch, Nine West Women's NW/1694BLGB Blue Sunray Dial Gold-Tone Bracelet Watch, MVMT Watches Black Face with Black Leather Strap Men's Watch, Readeel Men Sports Watches Fashion Casual Quartz Watch Digital & Analog Multifunctional Waterproof Student Men Sports LED Watches, Green Case, Burgi Women's BUR127RG Diamond & Crystal Accented Mother-of-Pearl Dial Embossed Rose Gold Bracelet Watch, Armitron Sport Men's 408108BLK Chronograph Black Digital Watch, Michael Kors Watches Runway Chronograph Stainless Steel Watch (Rose Gold), Readeel Rose Red Silicone Absolutely Environmentally Friendly Materials Band Butterfly Cartoon Kids Watch, Vince Camuto Women's VC/5224CHGB Gold-Tone Mesh Bracelet Watch, Casio Kids W-214HC-1AVCF Classic Digital Display Quartz Black Watch, Fruitz NECTARINE Ladies Watch F36S-N-PR, JOJINO Real Diamond Watch Chronograph Mens Silver Case Black Rubber Band MJ-1130, Michael Kors MK5719 Women's Chronograph Camille Stainless Steel Bracelet Silver Watch, Rose Gold Case Crystal Eiffel Tower Lady Women Pink Leather Quartz Analog Watch WAA500, Daniel Wellington Women's 0511DW Classic Bristol Analog Display Quartz Brown Watch, Seiko Men's SNKN39 Analog Display Automatic Self Wind Orange Watch, MVMT Watches Rose Gold Case with Brown Leather Strap Men's Watch, HJX Novelty Real Watch With Collectable Butane Cigarette Cigar Lighter, Timex Kids T79081 My First Timex Easy Reader Watch with Pink Faux Leather Strap, Frenzy Kids' FR248 \"Peace Novelty\" Watch, Nautica Men's NAD19505G NST 101 Stainless Steel Watch with Blue Band, Tissot Men's T0484172705700 T-Race Black Chronograph Dial Watch, Timex Men's T2P390 \"Elevated Classics\" Stainless Steel Watch, Marathon by Timex Full-Size Watch, Caddy Bay Collection Vintage Wood Glass Clear Top Watch Display Storage Case Chest Holds 10+ Watches With Adjustable Soft Pillows and High Clearance for Larger Watches, Tommy Hilfiger Women's 1781271 Stainless Steel Watch with White Silicone Band, Citizen Women's EW2130-51D Silhouette Eco Drive Watch, Invicta Men's 1221 Invicta II Chronograph Black Dial 18k Rose Gold-Ion Plated Stainless Steel Watch, Tmbr. Helm Rose Gold Cherry Wood Unisex Wooden Watch Leather Strap Quartz Analog Wristwatch, Fossil Fs4487p Machine Chronograph Black Silicone Watch Watch For Men, Susenstone®Ultra Thin Sports Silicone Digital LED Sports Wrist Watch\n",
            "\n",
            "Cluster 4 words:good,product,quality,seller,'s,looks,\n",
            "Cluster 4 reviews (76 reviews): \n",
            "Luminox Men's 3081 Evo Navy SEAL Chronograph Watch, Voguestrap TX046801XL Allstrap 16-20mm Brown Extra-Long-Length Fits Fast-Wrap Expedition Watchband, XOXO Women's XO110 Silver Dial Gold-tone Bracelet Watch, Akribos XXIV Men's AK787YGBU Quartz Movement Watch with Blue Dial and Yellow Gold Stainless Steel Bracelet, AMPM24 Men's Hand-winding Mechanical Watch Black Leather Watchband Skeleton PMW069, Gotham Men's Silver-Tone Ultra Thin Railroad Open Face Quartz Pocket Watch # GWC15022S, Casio Unisex MRW200H-2BV Neo-Display Black Watch with Resin Band, Seiko Wall Clock Silver-Tone Metallic Case Luminous  Numerals, Casio Men's STB-1000-1CF OmniSync Sports Gear Bluetooth Fitness Smartwatch, Casio Men's PRG-270B-1CR PRO TREK Aviator Black Watch, Casio Men's Dive Style Watch, DASSARI Carrera Distressed Leather GT Rally Racing Watch Strap, CYMA 18mm Black Alligator Grain Genuine Leather Watchband with Gold-Plated S/S Buckle, Burgi Women's BUR102TTG Silver and Yellow Gold Quartz Watch with White Dial and Silver and Yellow Gold Bracelet, Timex Men's Easy Reader Date Leather Strap Watch, Lucien Piccard Men's LP-13346-02 Peak Analog Display Japanese Quartz Black Watch, Casio Men's GA201-1 G-Shock Shock Resistant Sport Watch With Black Resin Band, Casio Men's PRW-3500Y-4CR Atomic Black Digital with Red Resin Band, Watch, Unisex Fashion Sport Watch Multifunction Multi-colour Led LAnalog Digital Waterproof Alarm Wristwatch, Roots Men's 1R-AT104WH1W Seymour Digital Light Grey Watch, Invicta Women's 6908 II Collection Stainless Steel Watch, LUNIWEI New Dreamcatcher Friendship Bracelet Watches Women Braid Dress ..., Tissot Men's T0854072201100 T Classic Powermatic Automatic Two-Tone Watch, Anleowatch 1PCS Black Watch Men Women Unisex Military Sports Watches Waterproof Quartz Wristwatches, Nautica Men's N16553G Stainless Steel Watch with Black Band, Casio Baby-G Neon Dial Series Women's Watch BGA-131-7B3JF (Japan Import), Seiko Men's SNN237 Sports Black Stainless-Steel Black Chronograph Dial Watch, Armitron Sport Men's 40/8301 Digital Chronograph Resin Strap Watch, Tommy Hilfiger Women's 1781473 Analog Display Quartz Brown Watch, U.S. Polo Assn. Classic Men's USC2254 Set of Two Two-Tone Watches, Casio watch strap watchband Resin Band dark Blue for PRG-550-2 PRG-550 PRG-260, U.S. Polo Assn. Women's USC40063 Gold-Tone and Pink Bracelet Watch, ESQ Movado Unisex 07301432 ESQ ONE Black Stainless Steel Watch with Yellow Silicone Band, Technomarine Cruise Original Chronograph Steel Unisex Watch Rubber Strap Silver Dial 110046, Invicta Men's 6977 Pro Diver Collection Chronograph Black Dial Black Polyurethane Watch, Casio Unisex MTP-S100L-7B2VCF Solar Easy-To-Read Watch with Brown Band, Timex Women's Q7B852 Padded Calfskin 12mm Brown Replacement Watchband, Tommy Hilfiger Women's 1781210 Sport Tank Gold Plated Tan Watch, Seiko Men's SNK601 Seiko 5 Automatic Silver Dial Stainless Steel Bracelet Watch, Curren White Case Stainless Steel Band Men Analog Wrist Watch (White), Timex Men's Q7B765 Genuine Padded Oiled Leather 18mm Brown Replacement Watchband, G-SHOCK Men's GA-100 Limited Edition Watch, Daniel Wellington Women's 0501DW Oxford Analog Display Quartz Multi-Color Watch, G-Shock GA-1000-1A Aviation Series Men's Luxury Watch - Black / One Size, HACBIWA Classic Men Big Dial Brown Wrist Watch on Sale Gift, Nautica Men's N20503G NST Stainless Steel Watch, XOXO Women's XO9043 Seven Color Silicone Rubber Interchangeable Strap Set Watch, SE JT6216 21-Piece Watch Repair Kit, Invicta Men's 8928OB Pro Diver Gold Stainless Steel Two-Tone Automatic Watch, Swiss Legend Men's 30427-YG-02 Airbourne Analog Display Swiss Quartz White Watch, Casio Women's BA-110-7A1CR Baby-G Rose Gold Analog-Digital Watch with White Resin Band, Elegant Rose Golden Oval Quartz Watch OL Lady Cuff Bangle Bracelet, G-Shock GA-110 Garish Trending Series Men's Luxury Watch - White / One Size, Readeel Harajuku Retro Trend of Men Watch Quartz Watch Brown Leather Band Yellow Digital Date Watch Men Watch, Bilingual Week Shows,adjustable, Diplomat Double Metallic Silver / Black Watch Winder with Built In IC Timer, Casio Men's EF106SG-2AV Edifice Two-Tone Stainless Steel Watch, Daniel Wellington Women's 0508DW Sheffield Analog Quartz Black Leather Watch, Luxury Sport Watches For Men Skeleton Wrist Watches Automatic Winding Mechanical Movement, Fossil Fs4487p Machine Chronograph Black Silicone Watch Watch For Men, LEMFO Bluetooth Smart Watch WristWatch U8 U Watch for Android Samsung S2 S3 S4 S5 Note 2 3 iphone 4 4S 5 5C 5S (Black), Skagen Men's 915XLSSS Steel Matte Textured Mesh Accents Watch, Seiko Women's SUP237 \"Tressia\" Diamond-Accented Stainless Steel Solar Watch, Tommy Hilfiger Men's 1791121 Sophisticated Sport Gold-Tone Stainless Steel Watch, Timex Women's T2H641 Classic Black Leather Strap Watch, Timex Ironman Sleek 50 Lap, Vince Camuto Men's VC/1005BLTR \"The Spectator\" Stainless Steel and Rose-Tone Blue Dial Watch, Casio Men's MTP1316D-9AV Silver Stainless-Steel Quartz Watch with Grey Dial, Daniel Wellington Men's 0105DW Analog Quartz Classic Warwick Stainless Steel Watch with Striped Nylon Band, SE Watch Battery Replacement Kit, Skagen Men's SK696XLTBB Titanium Black Dial Watch, U.S. Polo Assn. Classic Men's USC50192 Analog Display Analog Quartz White Watch, Seiko Men's SSC081 Adventure-Solar Classic Casual Watch, Hamilton Men's Khaki Regatta watch #H77614133, Caravelle by Bulova Women's 43L131 Antique Black Watch, Kenneth Cole Reaction Unisex RK1325 Street Triple Black Bright Blue Dial Watch, Caravelle by Bulova Women's 43L125 Easy Read Classic Tank Watch\n",
            "\n"
          ],
          "name": "stdout"
        }
      ]
    },
    {
      "cell_type": "markdown",
      "metadata": {
        "id": "oYOZXL53E8VV",
        "colab_type": "text"
      },
      "source": [
        "# Part 5: Topic Modeling - Latent Dirichlet Allocation"
      ]
    },
    {
      "cell_type": "code",
      "metadata": {
        "id": "lBPVbFNFE8VW",
        "colab_type": "code",
        "colab": {}
      },
      "source": [
        "# Use LDA for clustering\n",
        "from sklearn.decomposition import LatentDirichletAllocation\n",
        "lda = LatentDirichletAllocation(n_components=5)"
      ],
      "execution_count": 0,
      "outputs": []
    },
    {
      "cell_type": "code",
      "metadata": {
        "colab_type": "code",
        "id": "FCACS4Vp9qFB",
        "outputId": "d75cadca-4725-4c59-f434-3cbd11925979",
        "colab": {
          "base_uri": "https://localhost:8080/",
          "height": 88
        }
      },
      "source": [
        "from sklearn.feature_extraction.text import CountVectorizer\n",
        "# LDA requires integer values\n",
        "tfidf_model_lda = CountVectorizer(max_df=0.99, max_features=500,\n",
        "                                 min_df=0.01, stop_words='english',\n",
        "                                 tokenizer=tokenization_and_stemming, ngram_range=(1,1))\n",
        "\n",
        "tfidf_matrix_lda = tfidf_model_lda.fit_transform(data) #fit the vectorizer to synopses\n",
        "\n",
        "print (\"In total, there are \" + str(tfidf_matrix_lda.shape[0]) + \\\n",
        "      \" reviews and \" + str(tfidf_matrix_lda.shape[1]) + \" terms.\")"
      ],
      "execution_count": 25,
      "outputs": [
        {
          "output_type": "stream",
          "text": [
            "/usr/local/lib/python3.6/dist-packages/sklearn/feature_extraction/text.py:385: UserWarning: Your stop_words may be inconsistent with your preprocessing. Tokenizing the stop words generated tokens ['afterward', 'alon', 'alreadi', 'alway', 'anoth', 'anyon', 'anyth', 'anywher', 'becam', 'becom', 'besid', 'cri', 'describ', 'els', 'elsewher', 'empti', 'everi', 'everyon', 'everyth', 'everywher', 'fifti', 'forti', 'henc', 'hereaft', 'herebi', 'howev', 'hundr', 'inde', 'mani', 'meanwhil', 'moreov', 'nobodi', 'noon', 'noth', 'nowher', 'otherwis', 'perhap', 'pleas', 'sever', 'sinc', 'sincer', 'sixti', 'someon', 'someth', 'sometim', 'somewher', 'thenc', 'thereaft', 'therebi', 'therefor', 'togeth', 'twelv', 'twenti', 'whatev', 'whenc', 'whenev', 'wherea', 'whereaft', 'wherebi', 'wherev'] not in stop_words.\n",
            "  'stop_words.' % sorted(inconsistent))\n"
          ],
          "name": "stderr"
        },
        {
          "output_type": "stream",
          "text": [
            "In total, there are 1000 reviews and 245 terms.\n"
          ],
          "name": "stdout"
        }
      ]
    },
    {
      "cell_type": "code",
      "metadata": {
        "colab_type": "code",
        "id": "9PU80SW391II",
        "outputId": "8e7d5b94-b777-4f89-edb5-f7d94830d9fc",
        "colab": {
          "base_uri": "https://localhost:8080/",
          "height": 153
        }
      },
      "source": [
        "# document topic matrix for tfidf_matrix_lda\n",
        "lda_output = lda.fit_transform(tfidf_matrix_lda)\n",
        "print(lda_output.shape)\n",
        "print(lda_output)"
      ],
      "execution_count": 26,
      "outputs": [
        {
          "output_type": "stream",
          "text": [
            "(1000, 5)\n",
            "[[0.4672653  0.45670851 0.0254453  0.02534857 0.02523232]\n",
            " [0.79552186 0.05102421 0.05179199 0.05082874 0.0508332 ]\n",
            " [0.2        0.2        0.2        0.2        0.2       ]\n",
            " ...\n",
            " [0.10000009 0.10019819 0.59943424 0.10000254 0.10036493]\n",
            " [0.05034158 0.05119023 0.79693124 0.05068782 0.05084913]\n",
            " [0.03470466 0.86371275 0.03344739 0.03392228 0.03421292]]\n"
          ],
          "name": "stdout"
        }
      ]
    },
    {
      "cell_type": "code",
      "metadata": {
        "scrolled": true,
        "colab_type": "code",
        "id": "hCJs3lBz90vY",
        "outputId": "4d9a7972-8918-46a3-ac87-2fc844e6c642",
        "colab": {
          "base_uri": "https://localhost:8080/",
          "height": 204
        }
      },
      "source": [
        "# topics and words matrix\n",
        "topic_word = lda.components_\n",
        "print(topic_word.shape)\n",
        "print(topic_word)"
      ],
      "execution_count": 27,
      "outputs": [
        {
          "output_type": "stream",
          "text": [
            "(5, 245)\n",
            "[[ 18.64418112 115.28425235   3.78346713 ...   0.20646286   1.68544059\n",
            "   10.15695537]\n",
            " [ 11.34457751  26.05875076   1.24067667 ...   3.81576802  17.81737043\n",
            "   16.8375157 ]\n",
            " [  0.20133249   0.57084154   0.20132706 ...   0.20067464   0.20281913\n",
            "    0.2021173 ]\n",
            " [  3.20903109  50.52706855  11.57264333 ...  13.5739011   39.17660898\n",
            "    3.24119439]\n",
            " [ 15.60087778  37.55908679   0.20188582 ...   0.20319338  13.11776086\n",
            "   26.56221724]]\n"
          ],
          "name": "stdout"
        }
      ]
    },
    {
      "cell_type": "code",
      "metadata": {
        "id": "xCEVfJS5AEgx",
        "colab_type": "code",
        "outputId": "c7ab30c8-36c5-4e7d-ed16-d1055068a30b",
        "colab": {
          "base_uri": "https://localhost:8080/",
          "height": 359
        }
      },
      "source": [
        "# column names\n",
        "topic_names = [\"Topic\" + str(i) for i in range(lda.n_components)]\n",
        "\n",
        "# index names\n",
        "doc_names = [\"Doc\" + str(i) for i in range(len(data))]\n",
        "\n",
        "df_document_topic = pd.DataFrame(np.round(lda_output, 2), columns=topic_names, index=doc_names)\n",
        "\n",
        "# get dominant topic for each document\n",
        "topic = np.argmax(df_document_topic.values, axis=1)\n",
        "df_document_topic['topic'] = topic\n",
        "\n",
        "df_document_topic.head(10)"
      ],
      "execution_count": 28,
      "outputs": [
        {
          "output_type": "execute_result",
          "data": {
            "text/html": [
              "<div>\n",
              "<style scoped>\n",
              "    .dataframe tbody tr th:only-of-type {\n",
              "        vertical-align: middle;\n",
              "    }\n",
              "\n",
              "    .dataframe tbody tr th {\n",
              "        vertical-align: top;\n",
              "    }\n",
              "\n",
              "    .dataframe thead th {\n",
              "        text-align: right;\n",
              "    }\n",
              "</style>\n",
              "<table border=\"1\" class=\"dataframe\">\n",
              "  <thead>\n",
              "    <tr style=\"text-align: right;\">\n",
              "      <th></th>\n",
              "      <th>Topic0</th>\n",
              "      <th>Topic1</th>\n",
              "      <th>Topic2</th>\n",
              "      <th>Topic3</th>\n",
              "      <th>Topic4</th>\n",
              "      <th>topic</th>\n",
              "    </tr>\n",
              "  </thead>\n",
              "  <tbody>\n",
              "    <tr>\n",
              "      <th>Doc0</th>\n",
              "      <td>0.47</td>\n",
              "      <td>0.46</td>\n",
              "      <td>0.03</td>\n",
              "      <td>0.03</td>\n",
              "      <td>0.03</td>\n",
              "      <td>0</td>\n",
              "    </tr>\n",
              "    <tr>\n",
              "      <th>Doc1</th>\n",
              "      <td>0.80</td>\n",
              "      <td>0.05</td>\n",
              "      <td>0.05</td>\n",
              "      <td>0.05</td>\n",
              "      <td>0.05</td>\n",
              "      <td>0</td>\n",
              "    </tr>\n",
              "    <tr>\n",
              "      <th>Doc2</th>\n",
              "      <td>0.20</td>\n",
              "      <td>0.20</td>\n",
              "      <td>0.20</td>\n",
              "      <td>0.20</td>\n",
              "      <td>0.20</td>\n",
              "      <td>0</td>\n",
              "    </tr>\n",
              "    <tr>\n",
              "      <th>Doc3</th>\n",
              "      <td>0.03</td>\n",
              "      <td>0.03</td>\n",
              "      <td>0.03</td>\n",
              "      <td>0.63</td>\n",
              "      <td>0.28</td>\n",
              "      <td>3</td>\n",
              "    </tr>\n",
              "    <tr>\n",
              "      <th>Doc4</th>\n",
              "      <td>0.01</td>\n",
              "      <td>0.32</td>\n",
              "      <td>0.13</td>\n",
              "      <td>0.01</td>\n",
              "      <td>0.54</td>\n",
              "      <td>4</td>\n",
              "    </tr>\n",
              "    <tr>\n",
              "      <th>Doc5</th>\n",
              "      <td>0.04</td>\n",
              "      <td>0.04</td>\n",
              "      <td>0.84</td>\n",
              "      <td>0.04</td>\n",
              "      <td>0.04</td>\n",
              "      <td>2</td>\n",
              "    </tr>\n",
              "    <tr>\n",
              "      <th>Doc6</th>\n",
              "      <td>0.03</td>\n",
              "      <td>0.03</td>\n",
              "      <td>0.89</td>\n",
              "      <td>0.03</td>\n",
              "      <td>0.03</td>\n",
              "      <td>2</td>\n",
              "    </tr>\n",
              "    <tr>\n",
              "      <th>Doc7</th>\n",
              "      <td>0.03</td>\n",
              "      <td>0.03</td>\n",
              "      <td>0.03</td>\n",
              "      <td>0.88</td>\n",
              "      <td>0.03</td>\n",
              "      <td>3</td>\n",
              "    </tr>\n",
              "    <tr>\n",
              "      <th>Doc8</th>\n",
              "      <td>0.01</td>\n",
              "      <td>0.95</td>\n",
              "      <td>0.01</td>\n",
              "      <td>0.01</td>\n",
              "      <td>0.01</td>\n",
              "      <td>1</td>\n",
              "    </tr>\n",
              "    <tr>\n",
              "      <th>Doc9</th>\n",
              "      <td>0.02</td>\n",
              "      <td>0.02</td>\n",
              "      <td>0.27</td>\n",
              "      <td>0.02</td>\n",
              "      <td>0.67</td>\n",
              "      <td>4</td>\n",
              "    </tr>\n",
              "  </tbody>\n",
              "</table>\n",
              "</div>"
            ],
            "text/plain": [
              "      Topic0  Topic1  Topic2  Topic3  Topic4  topic\n",
              "Doc0    0.47    0.46    0.03    0.03    0.03      0\n",
              "Doc1    0.80    0.05    0.05    0.05    0.05      0\n",
              "Doc2    0.20    0.20    0.20    0.20    0.20      0\n",
              "Doc3    0.03    0.03    0.03    0.63    0.28      3\n",
              "Doc4    0.01    0.32    0.13    0.01    0.54      4\n",
              "Doc5    0.04    0.04    0.84    0.04    0.04      2\n",
              "Doc6    0.03    0.03    0.89    0.03    0.03      2\n",
              "Doc7    0.03    0.03    0.03    0.88    0.03      3\n",
              "Doc8    0.01    0.95    0.01    0.01    0.01      1\n",
              "Doc9    0.02    0.02    0.27    0.02    0.67      4"
            ]
          },
          "metadata": {
            "tags": []
          },
          "execution_count": 28
        }
      ]
    },
    {
      "cell_type": "code",
      "metadata": {
        "id": "InPLDW7kBSOc",
        "colab_type": "code",
        "outputId": "0a5d1160-21d6-441c-e96e-5f0b9dc8c006",
        "colab": {
          "base_uri": "https://localhost:8080/",
          "height": 204
        }
      },
      "source": [
        "df_document_topic['topic'].value_counts().to_frame()"
      ],
      "execution_count": 29,
      "outputs": [
        {
          "output_type": "execute_result",
          "data": {
            "text/html": [
              "<div>\n",
              "<style scoped>\n",
              "    .dataframe tbody tr th:only-of-type {\n",
              "        vertical-align: middle;\n",
              "    }\n",
              "\n",
              "    .dataframe tbody tr th {\n",
              "        vertical-align: top;\n",
              "    }\n",
              "\n",
              "    .dataframe thead th {\n",
              "        text-align: right;\n",
              "    }\n",
              "</style>\n",
              "<table border=\"1\" class=\"dataframe\">\n",
              "  <thead>\n",
              "    <tr style=\"text-align: right;\">\n",
              "      <th></th>\n",
              "      <th>topic</th>\n",
              "    </tr>\n",
              "  </thead>\n",
              "  <tbody>\n",
              "    <tr>\n",
              "      <th>2</th>\n",
              "      <td>328</td>\n",
              "    </tr>\n",
              "    <tr>\n",
              "      <th>0</th>\n",
              "      <td>215</td>\n",
              "    </tr>\n",
              "    <tr>\n",
              "      <th>1</th>\n",
              "      <td>169</td>\n",
              "    </tr>\n",
              "    <tr>\n",
              "      <th>4</th>\n",
              "      <td>144</td>\n",
              "    </tr>\n",
              "    <tr>\n",
              "      <th>3</th>\n",
              "      <td>144</td>\n",
              "    </tr>\n",
              "  </tbody>\n",
              "</table>\n",
              "</div>"
            ],
            "text/plain": [
              "   topic\n",
              "2    328\n",
              "0    215\n",
              "1    169\n",
              "4    144\n",
              "3    144"
            ]
          },
          "metadata": {
            "tags": []
          },
          "execution_count": 29
        }
      ]
    },
    {
      "cell_type": "code",
      "metadata": {
        "id": "_yLe_RFHCz0a",
        "colab_type": "code",
        "outputId": "79ed029e-7fb2-4fcc-cc46-96a6e0d6ec9c",
        "colab": {
          "base_uri": "https://localhost:8080/",
          "height": 423
        }
      },
      "source": [
        "# topic word matrix\n",
        "print(lda.components_)\n",
        "# topic-word matrix\n",
        "df_topic_words = pd.DataFrame(lda.components_)\n",
        "\n",
        "# column and index\n",
        "df_topic_words.columns = tfidf_model_lda.get_feature_names()\n",
        "df_topic_words.index = topic_names\n",
        "\n",
        "df_topic_words.head()"
      ],
      "execution_count": 30,
      "outputs": [
        {
          "output_type": "stream",
          "text": [
            "[[ 18.64418112 115.28425235   3.78346713 ...   0.20646286   1.68544059\n",
            "   10.15695537]\n",
            " [ 11.34457751  26.05875076   1.24067667 ...   3.81576802  17.81737043\n",
            "   16.8375157 ]\n",
            " [  0.20133249   0.57084154   0.20132706 ...   0.20067464   0.20281913\n",
            "    0.2021173 ]\n",
            " [  3.20903109  50.52706855  11.57264333 ...  13.5739011   39.17660898\n",
            "    3.24119439]\n",
            " [ 15.60087778  37.55908679   0.20188582 ...   0.20319338  13.11776086\n",
            "   26.56221724]]\n"
          ],
          "name": "stdout"
        },
        {
          "output_type": "execute_result",
          "data": {
            "text/html": [
              "<div>\n",
              "<style scoped>\n",
              "    .dataframe tbody tr th:only-of-type {\n",
              "        vertical-align: middle;\n",
              "    }\n",
              "\n",
              "    .dataframe tbody tr th {\n",
              "        vertical-align: top;\n",
              "    }\n",
              "\n",
              "    .dataframe thead th {\n",
              "        text-align: right;\n",
              "    }\n",
              "</style>\n",
              "<table border=\"1\" class=\"dataframe\">\n",
              "  <thead>\n",
              "    <tr style=\"text-align: right;\">\n",
              "      <th></th>\n",
              "      <th>'m</th>\n",
              "      <th>'s</th>\n",
              "      <th>abl</th>\n",
              "      <th>absolut</th>\n",
              "      <th>accur</th>\n",
              "      <th>actual</th>\n",
              "      <th>adjust</th>\n",
              "      <th>alarm</th>\n",
              "      <th>alreadi</th>\n",
              "      <th>alway</th>\n",
              "      <th>amaz</th>\n",
              "      <th>amazon</th>\n",
              "      <th>anoth</th>\n",
              "      <th>arm</th>\n",
              "      <th>arriv</th>\n",
              "      <th>automat</th>\n",
              "      <th>awesom</th>\n",
              "      <th>bad</th>\n",
              "      <th>band</th>\n",
              "      <th>batteri</th>\n",
              "      <th>beauti</th>\n",
              "      <th>best</th>\n",
              "      <th>better</th>\n",
              "      <th>big</th>\n",
              "      <th>bit</th>\n",
              "      <th>black</th>\n",
              "      <th>blue</th>\n",
              "      <th>bought</th>\n",
              "      <th>box</th>\n",
              "      <th>br</th>\n",
              "      <th>bracelet</th>\n",
              "      <th>brand</th>\n",
              "      <th>break</th>\n",
              "      <th>bright</th>\n",
              "      <th>broke</th>\n",
              "      <th>button</th>\n",
              "      <th>buy</th>\n",
              "      <th>ca</th>\n",
              "      <th>came</th>\n",
              "      <th>case</th>\n",
              "      <th>...</th>\n",
              "      <th>star</th>\n",
              "      <th>start</th>\n",
              "      <th>stop</th>\n",
              "      <th>strap</th>\n",
              "      <th>sturdi</th>\n",
              "      <th>style</th>\n",
              "      <th>stylish</th>\n",
              "      <th>super</th>\n",
              "      <th>sure</th>\n",
              "      <th>surpris</th>\n",
              "      <th>swim</th>\n",
              "      <th>tell</th>\n",
              "      <th>thank</th>\n",
              "      <th>thing</th>\n",
              "      <th>think</th>\n",
              "      <th>thought</th>\n",
              "      <th>time</th>\n",
              "      <th>timex</th>\n",
              "      <th>tini</th>\n",
              "      <th>tri</th>\n",
              "      <th>turn</th>\n",
              "      <th>use</th>\n",
              "      <th>valu</th>\n",
              "      <th>ve</th>\n",
              "      <th>want</th>\n",
              "      <th>watch</th>\n",
              "      <th>water</th>\n",
              "      <th>way</th>\n",
              "      <th>wear</th>\n",
              "      <th>week</th>\n",
              "      <th>weight</th>\n",
              "      <th>went</th>\n",
              "      <th>wife</th>\n",
              "      <th>wind</th>\n",
              "      <th>wish</th>\n",
              "      <th>work</th>\n",
              "      <th>worn</th>\n",
              "      <th>worth</th>\n",
              "      <th>wrist</th>\n",
              "      <th>year</th>\n",
              "    </tr>\n",
              "  </thead>\n",
              "  <tbody>\n",
              "    <tr>\n",
              "      <th>Topic0</th>\n",
              "      <td>18.644181</td>\n",
              "      <td>115.284252</td>\n",
              "      <td>3.783467</td>\n",
              "      <td>17.193776</td>\n",
              "      <td>2.498196</td>\n",
              "      <td>4.426628</td>\n",
              "      <td>17.112108</td>\n",
              "      <td>6.562896</td>\n",
              "      <td>0.204727</td>\n",
              "      <td>0.201024</td>\n",
              "      <td>1.234214</td>\n",
              "      <td>12.061457</td>\n",
              "      <td>0.896925</td>\n",
              "      <td>1.195036</td>\n",
              "      <td>2.859796</td>\n",
              "      <td>0.204933</td>\n",
              "      <td>0.203661</td>\n",
              "      <td>16.027654</td>\n",
              "      <td>0.918035</td>\n",
              "      <td>8.205817</td>\n",
              "      <td>18.758706</td>\n",
              "      <td>0.200320</td>\n",
              "      <td>0.203059</td>\n",
              "      <td>0.629609</td>\n",
              "      <td>3.167914</td>\n",
              "      <td>4.867377</td>\n",
              "      <td>4.399140</td>\n",
              "      <td>35.433044</td>\n",
              "      <td>7.686660</td>\n",
              "      <td>0.202089</td>\n",
              "      <td>11.801080</td>\n",
              "      <td>0.209697</td>\n",
              "      <td>2.187102</td>\n",
              "      <td>0.201865</td>\n",
              "      <td>0.202058</td>\n",
              "      <td>2.367237</td>\n",
              "      <td>0.207019</td>\n",
              "      <td>0.202867</td>\n",
              "      <td>4.599534</td>\n",
              "      <td>0.201015</td>\n",
              "      <td>...</td>\n",
              "      <td>8.245239</td>\n",
              "      <td>7.438796</td>\n",
              "      <td>5.794320</td>\n",
              "      <td>0.201410</td>\n",
              "      <td>1.913627</td>\n",
              "      <td>0.201808</td>\n",
              "      <td>1.685917</td>\n",
              "      <td>0.201419</td>\n",
              "      <td>4.045626</td>\n",
              "      <td>6.248325</td>\n",
              "      <td>9.635921</td>\n",
              "      <td>7.030063</td>\n",
              "      <td>3.979924</td>\n",
              "      <td>14.121951</td>\n",
              "      <td>5.479003</td>\n",
              "      <td>3.539645</td>\n",
              "      <td>79.149411</td>\n",
              "      <td>0.203015</td>\n",
              "      <td>4.907643</td>\n",
              "      <td>0.202084</td>\n",
              "      <td>3.565092</td>\n",
              "      <td>18.020499</td>\n",
              "      <td>0.202210</td>\n",
              "      <td>10.074194</td>\n",
              "      <td>7.257453</td>\n",
              "      <td>148.012429</td>\n",
              "      <td>15.113087</td>\n",
              "      <td>0.202210</td>\n",
              "      <td>46.582156</td>\n",
              "      <td>0.201806</td>\n",
              "      <td>0.201536</td>\n",
              "      <td>1.568366</td>\n",
              "      <td>7.474268</td>\n",
              "      <td>3.789986</td>\n",
              "      <td>5.691063</td>\n",
              "      <td>22.519781</td>\n",
              "      <td>1.273391</td>\n",
              "      <td>0.206463</td>\n",
              "      <td>1.685441</td>\n",
              "      <td>10.156955</td>\n",
              "    </tr>\n",
              "    <tr>\n",
              "      <th>Topic1</th>\n",
              "      <td>11.344578</td>\n",
              "      <td>26.058751</td>\n",
              "      <td>1.240677</td>\n",
              "      <td>0.200782</td>\n",
              "      <td>1.564965</td>\n",
              "      <td>5.200017</td>\n",
              "      <td>0.313635</td>\n",
              "      <td>0.202175</td>\n",
              "      <td>7.772329</td>\n",
              "      <td>3.392527</td>\n",
              "      <td>0.201868</td>\n",
              "      <td>0.202625</td>\n",
              "      <td>24.254726</td>\n",
              "      <td>3.381520</td>\n",
              "      <td>0.202233</td>\n",
              "      <td>10.014081</td>\n",
              "      <td>1.699026</td>\n",
              "      <td>1.745276</td>\n",
              "      <td>24.515480</td>\n",
              "      <td>0.202065</td>\n",
              "      <td>32.429918</td>\n",
              "      <td>4.440855</td>\n",
              "      <td>0.201697</td>\n",
              "      <td>27.016950</td>\n",
              "      <td>0.203736</td>\n",
              "      <td>9.011704</td>\n",
              "      <td>25.992145</td>\n",
              "      <td>3.014304</td>\n",
              "      <td>0.201409</td>\n",
              "      <td>0.201111</td>\n",
              "      <td>1.593878</td>\n",
              "      <td>6.598054</td>\n",
              "      <td>5.761090</td>\n",
              "      <td>1.472886</td>\n",
              "      <td>12.218767</td>\n",
              "      <td>2.547949</td>\n",
              "      <td>24.801689</td>\n",
              "      <td>26.192354</td>\n",
              "      <td>18.308700</td>\n",
              "      <td>0.202928</td>\n",
              "      <td>...</td>\n",
              "      <td>0.207804</td>\n",
              "      <td>1.319304</td>\n",
              "      <td>0.201441</td>\n",
              "      <td>0.202737</td>\n",
              "      <td>2.668556</td>\n",
              "      <td>25.687462</td>\n",
              "      <td>4.918627</td>\n",
              "      <td>0.201407</td>\n",
              "      <td>3.000371</td>\n",
              "      <td>0.200999</td>\n",
              "      <td>4.760836</td>\n",
              "      <td>10.072345</td>\n",
              "      <td>0.203301</td>\n",
              "      <td>1.365277</td>\n",
              "      <td>15.087134</td>\n",
              "      <td>9.347278</td>\n",
              "      <td>34.080727</td>\n",
              "      <td>2.312111</td>\n",
              "      <td>0.200007</td>\n",
              "      <td>0.200477</td>\n",
              "      <td>0.200374</td>\n",
              "      <td>0.202402</td>\n",
              "      <td>13.732906</td>\n",
              "      <td>2.573807</td>\n",
              "      <td>26.841857</td>\n",
              "      <td>192.218357</td>\n",
              "      <td>0.202088</td>\n",
              "      <td>0.787336</td>\n",
              "      <td>30.963130</td>\n",
              "      <td>1.591989</td>\n",
              "      <td>12.827626</td>\n",
              "      <td>3.226198</td>\n",
              "      <td>0.200877</td>\n",
              "      <td>0.202428</td>\n",
              "      <td>0.202442</td>\n",
              "      <td>8.493901</td>\n",
              "      <td>8.520977</td>\n",
              "      <td>3.815768</td>\n",
              "      <td>17.817370</td>\n",
              "      <td>16.837516</td>\n",
              "    </tr>\n",
              "    <tr>\n",
              "      <th>Topic2</th>\n",
              "      <td>0.201332</td>\n",
              "      <td>0.570842</td>\n",
              "      <td>0.201327</td>\n",
              "      <td>0.201862</td>\n",
              "      <td>0.201670</td>\n",
              "      <td>0.201235</td>\n",
              "      <td>0.201735</td>\n",
              "      <td>0.200271</td>\n",
              "      <td>2.237422</td>\n",
              "      <td>0.201163</td>\n",
              "      <td>16.519592</td>\n",
              "      <td>0.204358</td>\n",
              "      <td>0.200765</td>\n",
              "      <td>0.201477</td>\n",
              "      <td>0.202719</td>\n",
              "      <td>0.202010</td>\n",
              "      <td>0.205951</td>\n",
              "      <td>0.201091</td>\n",
              "      <td>0.202643</td>\n",
              "      <td>0.202288</td>\n",
              "      <td>19.131671</td>\n",
              "      <td>0.201805</td>\n",
              "      <td>10.393989</td>\n",
              "      <td>6.239725</td>\n",
              "      <td>0.201092</td>\n",
              "      <td>0.201111</td>\n",
              "      <td>0.200459</td>\n",
              "      <td>0.202877</td>\n",
              "      <td>0.202387</td>\n",
              "      <td>0.201049</td>\n",
              "      <td>0.200429</td>\n",
              "      <td>0.204174</td>\n",
              "      <td>1.088618</td>\n",
              "      <td>0.201135</td>\n",
              "      <td>0.200331</td>\n",
              "      <td>0.204394</td>\n",
              "      <td>4.674490</td>\n",
              "      <td>0.200930</td>\n",
              "      <td>0.203436</td>\n",
              "      <td>0.200762</td>\n",
              "      <td>...</td>\n",
              "      <td>0.201423</td>\n",
              "      <td>0.200994</td>\n",
              "      <td>0.203018</td>\n",
              "      <td>0.200899</td>\n",
              "      <td>0.202799</td>\n",
              "      <td>1.788067</td>\n",
              "      <td>0.204247</td>\n",
              "      <td>11.520793</td>\n",
              "      <td>0.206731</td>\n",
              "      <td>0.218554</td>\n",
              "      <td>0.200670</td>\n",
              "      <td>0.201584</td>\n",
              "      <td>15.151435</td>\n",
              "      <td>0.202738</td>\n",
              "      <td>0.201736</td>\n",
              "      <td>0.200467</td>\n",
              "      <td>0.551957</td>\n",
              "      <td>0.200562</td>\n",
              "      <td>0.200870</td>\n",
              "      <td>0.201032</td>\n",
              "      <td>0.200012</td>\n",
              "      <td>8.232518</td>\n",
              "      <td>0.212262</td>\n",
              "      <td>0.200654</td>\n",
              "      <td>0.203915</td>\n",
              "      <td>169.523327</td>\n",
              "      <td>0.201326</td>\n",
              "      <td>2.162252</td>\n",
              "      <td>6.200834</td>\n",
              "      <td>1.842193</td>\n",
              "      <td>0.201246</td>\n",
              "      <td>0.200753</td>\n",
              "      <td>12.919853</td>\n",
              "      <td>0.200608</td>\n",
              "      <td>0.202004</td>\n",
              "      <td>30.105968</td>\n",
              "      <td>0.200762</td>\n",
              "      <td>0.200675</td>\n",
              "      <td>0.202819</td>\n",
              "      <td>0.202117</td>\n",
              "    </tr>\n",
              "    <tr>\n",
              "      <th>Topic3</th>\n",
              "      <td>3.209031</td>\n",
              "      <td>50.527069</td>\n",
              "      <td>11.572643</td>\n",
              "      <td>0.200819</td>\n",
              "      <td>0.203586</td>\n",
              "      <td>6.969778</td>\n",
              "      <td>7.170927</td>\n",
              "      <td>9.833238</td>\n",
              "      <td>0.202986</td>\n",
              "      <td>0.204504</td>\n",
              "      <td>2.048239</td>\n",
              "      <td>11.564682</td>\n",
              "      <td>2.387952</td>\n",
              "      <td>2.053578</td>\n",
              "      <td>14.767153</td>\n",
              "      <td>5.030656</td>\n",
              "      <td>22.691294</td>\n",
              "      <td>0.208752</td>\n",
              "      <td>58.548499</td>\n",
              "      <td>1.685029</td>\n",
              "      <td>7.399438</td>\n",
              "      <td>8.339967</td>\n",
              "      <td>8.710344</td>\n",
              "      <td>24.620305</td>\n",
              "      <td>19.226044</td>\n",
              "      <td>6.558732</td>\n",
              "      <td>0.205833</td>\n",
              "      <td>0.213992</td>\n",
              "      <td>6.702003</td>\n",
              "      <td>52.865596</td>\n",
              "      <td>0.203365</td>\n",
              "      <td>6.770181</td>\n",
              "      <td>1.006626</td>\n",
              "      <td>0.200671</td>\n",
              "      <td>0.200613</td>\n",
              "      <td>3.849673</td>\n",
              "      <td>14.567588</td>\n",
              "      <td>0.201375</td>\n",
              "      <td>0.209034</td>\n",
              "      <td>29.191457</td>\n",
              "      <td>...</td>\n",
              "      <td>6.571328</td>\n",
              "      <td>0.201416</td>\n",
              "      <td>1.297794</td>\n",
              "      <td>44.368651</td>\n",
              "      <td>2.700993</td>\n",
              "      <td>3.109757</td>\n",
              "      <td>12.986887</td>\n",
              "      <td>3.876372</td>\n",
              "      <td>9.397370</td>\n",
              "      <td>0.202888</td>\n",
              "      <td>0.201954</td>\n",
              "      <td>1.698836</td>\n",
              "      <td>0.207678</td>\n",
              "      <td>4.879505</td>\n",
              "      <td>7.989814</td>\n",
              "      <td>2.834294</td>\n",
              "      <td>26.531171</td>\n",
              "      <td>1.962094</td>\n",
              "      <td>2.917140</td>\n",
              "      <td>0.200629</td>\n",
              "      <td>9.833465</td>\n",
              "      <td>13.314897</td>\n",
              "      <td>3.187786</td>\n",
              "      <td>12.772345</td>\n",
              "      <td>0.203009</td>\n",
              "      <td>230.493020</td>\n",
              "      <td>0.201958</td>\n",
              "      <td>6.712515</td>\n",
              "      <td>10.242574</td>\n",
              "      <td>0.202829</td>\n",
              "      <td>0.204018</td>\n",
              "      <td>0.206655</td>\n",
              "      <td>0.203010</td>\n",
              "      <td>2.018787</td>\n",
              "      <td>4.449341</td>\n",
              "      <td>3.628806</td>\n",
              "      <td>3.801819</td>\n",
              "      <td>13.573901</td>\n",
              "      <td>39.176609</td>\n",
              "      <td>3.241194</td>\n",
              "    </tr>\n",
              "    <tr>\n",
              "      <th>Topic4</th>\n",
              "      <td>15.600878</td>\n",
              "      <td>37.559087</td>\n",
              "      <td>0.201886</td>\n",
              "      <td>0.202761</td>\n",
              "      <td>8.531583</td>\n",
              "      <td>0.202343</td>\n",
              "      <td>0.201594</td>\n",
              "      <td>0.201421</td>\n",
              "      <td>2.582536</td>\n",
              "      <td>10.000781</td>\n",
              "      <td>1.996087</td>\n",
              "      <td>3.966878</td>\n",
              "      <td>0.259633</td>\n",
              "      <td>9.168389</td>\n",
              "      <td>3.968100</td>\n",
              "      <td>2.548320</td>\n",
              "      <td>0.200068</td>\n",
              "      <td>7.817227</td>\n",
              "      <td>103.815341</td>\n",
              "      <td>37.704801</td>\n",
              "      <td>2.280267</td>\n",
              "      <td>2.817052</td>\n",
              "      <td>10.490912</td>\n",
              "      <td>2.493410</td>\n",
              "      <td>0.201215</td>\n",
              "      <td>5.361075</td>\n",
              "      <td>0.202424</td>\n",
              "      <td>11.135783</td>\n",
              "      <td>0.207541</td>\n",
              "      <td>196.530155</td>\n",
              "      <td>0.201249</td>\n",
              "      <td>0.217894</td>\n",
              "      <td>4.956564</td>\n",
              "      <td>8.923443</td>\n",
              "      <td>12.178232</td>\n",
              "      <td>8.030747</td>\n",
              "      <td>16.749214</td>\n",
              "      <td>0.202473</td>\n",
              "      <td>9.679296</td>\n",
              "      <td>0.203839</td>\n",
              "      <td>...</td>\n",
              "      <td>15.774206</td>\n",
              "      <td>6.839490</td>\n",
              "      <td>21.503426</td>\n",
              "      <td>3.026303</td>\n",
              "      <td>4.514024</td>\n",
              "      <td>0.212906</td>\n",
              "      <td>0.204322</td>\n",
              "      <td>0.200008</td>\n",
              "      <td>5.349902</td>\n",
              "      <td>6.129234</td>\n",
              "      <td>0.200619</td>\n",
              "      <td>3.997172</td>\n",
              "      <td>2.457662</td>\n",
              "      <td>4.430529</td>\n",
              "      <td>8.242313</td>\n",
              "      <td>1.078316</td>\n",
              "      <td>48.686733</td>\n",
              "      <td>17.322217</td>\n",
              "      <td>4.774340</td>\n",
              "      <td>21.195778</td>\n",
              "      <td>0.201058</td>\n",
              "      <td>44.229683</td>\n",
              "      <td>3.664836</td>\n",
              "      <td>16.379000</td>\n",
              "      <td>13.493766</td>\n",
              "      <td>227.752867</td>\n",
              "      <td>19.281542</td>\n",
              "      <td>8.135687</td>\n",
              "      <td>18.011306</td>\n",
              "      <td>47.161184</td>\n",
              "      <td>2.565574</td>\n",
              "      <td>8.798027</td>\n",
              "      <td>0.201992</td>\n",
              "      <td>8.788191</td>\n",
              "      <td>1.455150</td>\n",
              "      <td>69.251544</td>\n",
              "      <td>0.203051</td>\n",
              "      <td>0.203193</td>\n",
              "      <td>13.117761</td>\n",
              "      <td>26.562217</td>\n",
              "    </tr>\n",
              "  </tbody>\n",
              "</table>\n",
              "<p>5 rows × 245 columns</p>\n",
              "</div>"
            ],
            "text/plain": [
              "               'm          's        abl  ...      worth      wrist       year\n",
              "Topic0  18.644181  115.284252   3.783467  ...   0.206463   1.685441  10.156955\n",
              "Topic1  11.344578   26.058751   1.240677  ...   3.815768  17.817370  16.837516\n",
              "Topic2   0.201332    0.570842   0.201327  ...   0.200675   0.202819   0.202117\n",
              "Topic3   3.209031   50.527069  11.572643  ...  13.573901  39.176609   3.241194\n",
              "Topic4  15.600878   37.559087   0.201886  ...   0.203193  13.117761  26.562217\n",
              "\n",
              "[5 rows x 245 columns]"
            ]
          },
          "metadata": {
            "tags": []
          },
          "execution_count": 30
        }
      ]
    },
    {
      "cell_type": "code",
      "metadata": {
        "id": "gbU9U8V-DFDX",
        "colab_type": "code",
        "outputId": "05ca0af7-e086-4d45-edab-8f55e818b6b7",
        "colab": {
          "base_uri": "https://localhost:8080/",
          "height": 204
        }
      },
      "source": [
        "# print top n keywords for each topic\n",
        "def print_topic_words(tfidf_model, lda_model, n_words):\n",
        "    words = np.array(tfidf_model.get_feature_names())\n",
        "    topic_words = []\n",
        "    # for each topic, we have words weight\n",
        "    for topic_words_weights in lda_model.components_:\n",
        "        top_words = topic_words_weights.argsort()[::-1][:n_words]\n",
        "        topic_words.append(words.take(top_words))\n",
        "    return topic_words\n",
        "\n",
        "topic_keywords = print_topic_words(tfidf_model=tfidf_model_lda, lda_model=lda, n_words=15)        \n",
        "\n",
        "df_topic_words = pd.DataFrame(topic_keywords)\n",
        "df_topic_words.columns = ['Word '+str(i) for i in range(df_topic_words.shape[1])]\n",
        "df_topic_words.index = ['Topic '+str(i) for i in range(df_topic_words.shape[0])]\n",
        "df_topic_words"
      ],
      "execution_count": 31,
      "outputs": [
        {
          "output_type": "execute_result",
          "data": {
            "text/html": [
              "<div>\n",
              "<style scoped>\n",
              "    .dataframe tbody tr th:only-of-type {\n",
              "        vertical-align: middle;\n",
              "    }\n",
              "\n",
              "    .dataframe tbody tr th {\n",
              "        vertical-align: top;\n",
              "    }\n",
              "\n",
              "    .dataframe thead th {\n",
              "        text-align: right;\n",
              "    }\n",
              "</style>\n",
              "<table border=\"1\" class=\"dataframe\">\n",
              "  <thead>\n",
              "    <tr style=\"text-align: right;\">\n",
              "      <th></th>\n",
              "      <th>Word 0</th>\n",
              "      <th>Word 1</th>\n",
              "      <th>Word 2</th>\n",
              "      <th>Word 3</th>\n",
              "      <th>Word 4</th>\n",
              "      <th>Word 5</th>\n",
              "      <th>Word 6</th>\n",
              "      <th>Word 7</th>\n",
              "      <th>Word 8</th>\n",
              "      <th>Word 9</th>\n",
              "      <th>Word 10</th>\n",
              "      <th>Word 11</th>\n",
              "      <th>Word 12</th>\n",
              "      <th>Word 13</th>\n",
              "      <th>Word 14</th>\n",
              "    </tr>\n",
              "  </thead>\n",
              "  <tbody>\n",
              "    <tr>\n",
              "      <th>Topic 0</th>\n",
              "      <td>watch</td>\n",
              "      <td>'s</td>\n",
              "      <td>love</td>\n",
              "      <td>time</td>\n",
              "      <td>like</td>\n",
              "      <td>wear</td>\n",
              "      <td>bought</td>\n",
              "      <td>n't</td>\n",
              "      <td>pretti</td>\n",
              "      <td>purchas</td>\n",
              "      <td>month</td>\n",
              "      <td>disappoint</td>\n",
              "      <td>set</td>\n",
              "      <td>face</td>\n",
              "      <td>work</td>\n",
              "    </tr>\n",
              "    <tr>\n",
              "      <th>Topic 1</th>\n",
              "      <td>watch</td>\n",
              "      <td>n't</td>\n",
              "      <td>look</td>\n",
              "      <td>color</td>\n",
              "      <td>great</td>\n",
              "      <td>face</td>\n",
              "      <td>light</td>\n",
              "      <td>time</td>\n",
              "      <td>realli</td>\n",
              "      <td>beauti</td>\n",
              "      <td>wear</td>\n",
              "      <td>love</td>\n",
              "      <td>big</td>\n",
              "      <td>want</td>\n",
              "      <td>ca</td>\n",
              "    </tr>\n",
              "    <tr>\n",
              "      <th>Topic 2</th>\n",
              "      <td>watch</td>\n",
              "      <td>good</td>\n",
              "      <td>nice</td>\n",
              "      <td>great</td>\n",
              "      <td>love</td>\n",
              "      <td>look</td>\n",
              "      <td>perfect</td>\n",
              "      <td>price</td>\n",
              "      <td>qualiti</td>\n",
              "      <td>excel</td>\n",
              "      <td>work</td>\n",
              "      <td>product</td>\n",
              "      <td>far</td>\n",
              "      <td>gift</td>\n",
              "      <td>pictur</td>\n",
              "    </tr>\n",
              "    <tr>\n",
              "      <th>Topic 3</th>\n",
              "      <td>watch</td>\n",
              "      <td>look</td>\n",
              "      <td>band</td>\n",
              "      <td>size</td>\n",
              "      <td>br</td>\n",
              "      <td>'s</td>\n",
              "      <td>like</td>\n",
              "      <td>strap</td>\n",
              "      <td>wrist</td>\n",
              "      <td>price</td>\n",
              "      <td>great</td>\n",
              "      <td>qualiti</td>\n",
              "      <td>small</td>\n",
              "      <td>hand</td>\n",
              "      <td>case</td>\n",
              "    </tr>\n",
              "    <tr>\n",
              "      <th>Topic 4</th>\n",
              "      <td>watch</td>\n",
              "      <td>br</td>\n",
              "      <td>band</td>\n",
              "      <td>n't</td>\n",
              "      <td>work</td>\n",
              "      <td>time</td>\n",
              "      <td>week</td>\n",
              "      <td>day</td>\n",
              "      <td>use</td>\n",
              "      <td>replac</td>\n",
              "      <td>batteri</td>\n",
              "      <td>'s</td>\n",
              "      <td>look</td>\n",
              "      <td>good</td>\n",
              "      <td>link</td>\n",
              "    </tr>\n",
              "  </tbody>\n",
              "</table>\n",
              "</div>"
            ],
            "text/plain": [
              "        Word 0 Word 1 Word 2 Word 3  ...     Word 11 Word 12 Word 13 Word 14\n",
              "Topic 0  watch     's   love   time  ...  disappoint     set    face    work\n",
              "Topic 1  watch    n't   look  color  ...        love     big    want      ca\n",
              "Topic 2  watch   good   nice  great  ...     product     far    gift  pictur\n",
              "Topic 3  watch   look   band   size  ...     qualiti   small    hand    case\n",
              "Topic 4  watch     br   band    n't  ...          's    look    good    link\n",
              "\n",
              "[5 rows x 15 columns]"
            ]
          },
          "metadata": {
            "tags": []
          },
          "execution_count": 31
        }
      ]
    }
  ]
}